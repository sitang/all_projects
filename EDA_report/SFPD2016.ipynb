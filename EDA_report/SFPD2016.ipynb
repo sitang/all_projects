{
 "cells": [
  {
   "cell_type": "code",
   "execution_count": 49,
   "metadata": {
    "collapsed": true
   },
   "outputs": [],
   "source": [
    "import pandas as pd\n",
    "import seaborn as sns\n",
    "import numpy as np\n",
    "import matplotlib.pyplot as plt\n",
    "%matplotlib inline\n"
   ]
  },
  {
   "cell_type": "code",
   "execution_count": 70,
   "metadata": {
    "collapsed": false
   },
   "outputs": [],
   "source": [
    "df = pd.read_csv('SFPD2016.csv')"
   ]
  },
  {
   "cell_type": "code",
   "execution_count": 79,
   "metadata": {
    "collapsed": false
   },
   "outputs": [
    {
     "name": "stderr",
     "output_type": "stream",
     "text": [
      "/Users/Sitang/anaconda/envs/dsi/lib/python2.7/site-packages/IPython/core/interactiveshell.py:2717: DtypeWarning: Columns (33) have mixed types. Specify dtype option on import or set low_memory=False.\n",
      "  interactivity=interactivity, compiler=compiler, result=result)\n"
     ]
    }
   ],
   "source": [
    "building_type = pd.read_csv('Building_Permits.csv')"
   ]
  },
  {
   "cell_type": "code",
   "execution_count": 80,
   "metadata": {
    "collapsed": true
   },
   "outputs": [],
   "source": [
    "building_type_sample = building_type.sample(frac=0.05)"
   ]
  },
  {
   "cell_type": "code",
   "execution_count": 95,
   "metadata": {
    "collapsed": true
   },
   "outputs": [],
   "source": [
    "street_cleaning = pd.read_csv('311_case_records/Street_and_Sidewalk_Cleaning.csv')"
   ]
  },
  {
   "cell_type": "code",
   "execution_count": 97,
   "metadata": {
    "collapsed": false
   },
   "outputs": [
    {
     "data": {
      "text/html": [
       "<div>\n",
       "<table border=\"1\" class=\"dataframe\">\n",
       "  <thead>\n",
       "    <tr style=\"text-align: right;\">\n",
       "      <th></th>\n",
       "      <th>IncidntNum</th>\n",
       "      <th>Category</th>\n",
       "      <th>Descript</th>\n",
       "      <th>DayOfWeek</th>\n",
       "      <th>Date</th>\n",
       "      <th>Time</th>\n",
       "      <th>PdDistrict</th>\n",
       "      <th>Resolution</th>\n",
       "      <th>Address</th>\n",
       "      <th>X</th>\n",
       "      <th>Y</th>\n",
       "      <th>Location</th>\n",
       "      <th>PdId</th>\n",
       "    </tr>\n",
       "  </thead>\n",
       "  <tbody>\n",
       "    <tr>\n",
       "      <th>0</th>\n",
       "      <td>100475254</td>\n",
       "      <td>1</td>\n",
       "      <td>97</td>\n",
       "      <td>0</td>\n",
       "      <td>08/26/2016</td>\n",
       "      <td>08:00</td>\n",
       "      <td>5</td>\n",
       "      <td>0</td>\n",
       "      <td>14556</td>\n",
       "      <td>-122.427271</td>\n",
       "      <td>37.798134</td>\n",
       "      <td>(37.7981336020854, -122.427270640646)</td>\n",
       "      <td>10047525404134</td>\n",
       "    </tr>\n",
       "    <tr>\n",
       "      <th>1</th>\n",
       "      <td>100475254</td>\n",
       "      <td>37</td>\n",
       "      <td>692</td>\n",
       "      <td>0</td>\n",
       "      <td>08/26/2016</td>\n",
       "      <td>08:00</td>\n",
       "      <td>5</td>\n",
       "      <td>0</td>\n",
       "      <td>14556</td>\n",
       "      <td>-122.427271</td>\n",
       "      <td>37.798134</td>\n",
       "      <td>(37.7981336020854, -122.427270640646)</td>\n",
       "      <td>10047525463010</td>\n",
       "    </tr>\n",
       "  </tbody>\n",
       "</table>\n",
       "</div>"
      ],
      "text/plain": [
       "   IncidntNum  Category  Descript  DayOfWeek        Date   Time  PdDistrict  \\\n",
       "0   100475254         1        97          0  08/26/2016  08:00           5   \n",
       "1   100475254        37       692          0  08/26/2016  08:00           5   \n",
       "\n",
       "   Resolution  Address           X          Y  \\\n",
       "0           0    14556 -122.427271  37.798134   \n",
       "1           0    14556 -122.427271  37.798134   \n",
       "\n",
       "                                Location            PdId  \n",
       "0  (37.7981336020854, -122.427270640646)  10047525404134  \n",
       "1  (37.7981336020854, -122.427270640646)  10047525463010  "
      ]
     },
     "execution_count": 97,
     "metadata": {},
     "output_type": "execute_result"
    }
   ],
   "source": [
    "df.head(2)"
   ]
  },
  {
   "cell_type": "code",
   "execution_count": 34,
   "metadata": {
    "collapsed": false
   },
   "outputs": [
    {
     "name": "stdout",
     "output_type": "stream",
     "text": [
      "<class 'pandas.core.frame.DataFrame'>\n",
      "RangeIndex: 117270 entries, 0 to 117269\n",
      "Data columns (total 13 columns):\n",
      "IncidntNum    117270 non-null int64\n",
      "Category      117270 non-null object\n",
      "Descript      117270 non-null object\n",
      "DayOfWeek     117270 non-null object\n",
      "Date          117270 non-null object\n",
      "Time          117270 non-null object\n",
      "PdDistrict    117269 non-null object\n",
      "Resolution    117270 non-null object\n",
      "Address       117270 non-null object\n",
      "X             117270 non-null float64\n",
      "Y             117270 non-null float64\n",
      "Location      117270 non-null object\n",
      "PdId          117270 non-null int64\n",
      "dtypes: float64(2), int64(2), object(9)\n",
      "memory usage: 11.6+ MB\n"
     ]
    }
   ],
   "source": [
    "df.info()"
   ]
  },
  {
   "cell_type": "code",
   "execution_count": 35,
   "metadata": {
    "collapsed": false
   },
   "outputs": [
    {
     "data": {
      "text/plain": [
       "LARCENY/THEFT     30734\n",
       "OTHER OFFENSES    15425\n",
       "NON-CRIMINAL      14175\n",
       "ASSAULT           10705\n",
       "VANDALISM          6545\n",
       "VEHICLE THEFT      5045\n",
       "WARRANTS           4781\n",
       "BURGLARY           4587\n",
       "SUSPICIOUS OCC     4422\n",
       "DRUG/NARCOTIC      3478\n",
       "Name: Category, dtype: int64"
      ]
     },
     "execution_count": 35,
     "metadata": {},
     "output_type": "execute_result"
    }
   ],
   "source": [
    "cat = df['Category'].value_counts()\n",
    "cat.head(10)"
   ]
  },
  {
   "cell_type": "code",
   "execution_count": 36,
   "metadata": {
    "collapsed": false
   },
   "outputs": [
    {
     "data": {
      "text/html": [
       "<div>\n",
       "<table border=\"1\" class=\"dataframe\">\n",
       "  <thead>\n",
       "    <tr style=\"text-align: right;\">\n",
       "      <th></th>\n",
       "      <th>PdDistrict</th>\n",
       "      <th>Category</th>\n",
       "      <th>Number of Crimes</th>\n",
       "    </tr>\n",
       "  </thead>\n",
       "  <tbody>\n",
       "    <tr>\n",
       "      <th>0</th>\n",
       "      <td>SOUTHERN</td>\n",
       "      <td>LARCENY/THEFT</td>\n",
       "      <td>7025</td>\n",
       "    </tr>\n",
       "    <tr>\n",
       "      <th>1</th>\n",
       "      <td>NORTHERN</td>\n",
       "      <td>LARCENY/THEFT</td>\n",
       "      <td>5480</td>\n",
       "    </tr>\n",
       "    <tr>\n",
       "      <th>2</th>\n",
       "      <td>CENTRAL</td>\n",
       "      <td>LARCENY/THEFT</td>\n",
       "      <td>5250</td>\n",
       "    </tr>\n",
       "    <tr>\n",
       "      <th>3</th>\n",
       "      <td>SOUTHERN</td>\n",
       "      <td>OTHER OFFENSES</td>\n",
       "      <td>2665</td>\n",
       "    </tr>\n",
       "    <tr>\n",
       "      <th>4</th>\n",
       "      <td>SOUTHERN</td>\n",
       "      <td>NON-CRIMINAL</td>\n",
       "      <td>2631</td>\n",
       "    </tr>\n",
       "    <tr>\n",
       "      <th>5</th>\n",
       "      <td>RICHMOND</td>\n",
       "      <td>LARCENY/THEFT</td>\n",
       "      <td>2441</td>\n",
       "    </tr>\n",
       "    <tr>\n",
       "      <th>6</th>\n",
       "      <td>MISSION</td>\n",
       "      <td>OTHER OFFENSES</td>\n",
       "      <td>2297</td>\n",
       "    </tr>\n",
       "    <tr>\n",
       "      <th>7</th>\n",
       "      <td>MISSION</td>\n",
       "      <td>LARCENY/THEFT</td>\n",
       "      <td>2158</td>\n",
       "    </tr>\n",
       "    <tr>\n",
       "      <th>8</th>\n",
       "      <td>TARAVAL</td>\n",
       "      <td>LARCENY/THEFT</td>\n",
       "      <td>2013</td>\n",
       "    </tr>\n",
       "    <tr>\n",
       "      <th>9</th>\n",
       "      <td>BAYVIEW</td>\n",
       "      <td>OTHER OFFENSES</td>\n",
       "      <td>1892</td>\n",
       "    </tr>\n",
       "  </tbody>\n",
       "</table>\n",
       "</div>"
      ],
      "text/plain": [
       "  PdDistrict        Category  Number of Crimes\n",
       "0   SOUTHERN   LARCENY/THEFT              7025\n",
       "1   NORTHERN   LARCENY/THEFT              5480\n",
       "2    CENTRAL   LARCENY/THEFT              5250\n",
       "3   SOUTHERN  OTHER OFFENSES              2665\n",
       "4   SOUTHERN    NON-CRIMINAL              2631\n",
       "5   RICHMOND   LARCENY/THEFT              2441\n",
       "6    MISSION  OTHER OFFENSES              2297\n",
       "7    MISSION   LARCENY/THEFT              2158\n",
       "8    TARAVAL   LARCENY/THEFT              2013\n",
       "9    BAYVIEW  OTHER OFFENSES              1892"
      ]
     },
     "execution_count": 36,
     "metadata": {},
     "output_type": "execute_result"
    }
   ],
   "source": [
    "cat_dis = df.groupby(['PdDistrict', 'Category'])['Category'].size().sort_values(ascending=False).reset_index()\n",
    "cat_dis.rename(columns={0: 'Number of Crimes'}, inplace=True)\n",
    "cat_dis.head(10)"
   ]
  },
  {
   "cell_type": "code",
   "execution_count": 37,
   "metadata": {
    "collapsed": false
   },
   "outputs": [],
   "source": [
    "other_offenses = df[df['Category'] == 'OTHER OFFENSES']"
   ]
  },
  {
   "cell_type": "code",
   "execution_count": 38,
   "metadata": {
    "collapsed": false
   },
   "outputs": [
    {
     "name": "stdout",
     "output_type": "stream",
     "text": [
      "<class 'pandas.core.frame.DataFrame'>\n",
      "Int64Index: 15425 entries, 13 to 117258\n",
      "Data columns (total 13 columns):\n",
      "IncidntNum    15425 non-null int64\n",
      "Category      15425 non-null object\n",
      "Descript      15425 non-null object\n",
      "DayOfWeek     15425 non-null object\n",
      "Date          15425 non-null object\n",
      "Time          15425 non-null object\n",
      "PdDistrict    15425 non-null object\n",
      "Resolution    15425 non-null object\n",
      "Address       15425 non-null object\n",
      "X             15425 non-null float64\n",
      "Y             15425 non-null float64\n",
      "Location      15425 non-null object\n",
      "PdId          15425 non-null int64\n",
      "dtypes: float64(2), int64(2), object(9)\n",
      "memory usage: 1.6+ MB\n"
     ]
    }
   ],
   "source": [
    "other_offenses.info()"
   ]
  },
  {
   "cell_type": "code",
   "execution_count": 39,
   "metadata": {
    "collapsed": false
   },
   "outputs": [
    {
     "data": {
      "text/plain": [
       "DRIVERS LICENSE, SUSPENDED OR REVOKED             2890\n",
       "TRAFFIC VIOLATION ARREST                          1686\n",
       "TRAFFIC VIOLATION                                 1408\n",
       "RESISTING ARREST                                  1069\n",
       "MISCELLANEOUS INVESTIGATION                        916\n",
       "FALSE PERSONATION TO RECEIVE MONEY OR PROPERTY     854\n",
       "LOST/STOLEN LICENSE PLATE                          837\n",
       "PROBATION VIOLATION                                666\n",
       "VIOLATION OF RESTRAINING ORDER                     494\n",
       "POSSESSION OF BURGLARY TOOLS                       489\n",
       "Name: Descript, dtype: int64"
      ]
     },
     "execution_count": 39,
     "metadata": {},
     "output_type": "execute_result"
    }
   ],
   "source": [
    "#in other offensens, what are the most common descriptions\n",
    "other_off_descr = other_offenses['Descript'].value_counts()\n",
    "other_off_descr.head(10)"
   ]
  },
  {
   "cell_type": "code",
   "execution_count": 40,
   "metadata": {
    "collapsed": false
   },
   "outputs": [],
   "source": [
    "#sorted gps locations\n",
    "gps = df['Location'].value_counts()"
   ]
  },
  {
   "cell_type": "code",
   "execution_count": 41,
   "metadata": {
    "collapsed": false
   },
   "outputs": [
    {
     "data": {
      "text/html": [
       "<div>\n",
       "<table border=\"1\" class=\"dataframe\">\n",
       "  <thead>\n",
       "    <tr style=\"text-align: right;\">\n",
       "      <th></th>\n",
       "      <th>IncidntNum</th>\n",
       "      <th>Category</th>\n",
       "      <th>Descript</th>\n",
       "      <th>DayOfWeek</th>\n",
       "      <th>Date</th>\n",
       "      <th>Time</th>\n",
       "      <th>PdDistrict</th>\n",
       "      <th>Resolution</th>\n",
       "      <th>Address</th>\n",
       "      <th>X</th>\n",
       "      <th>Y</th>\n",
       "      <th>Location</th>\n",
       "      <th>PdId</th>\n",
       "    </tr>\n",
       "  </thead>\n",
       "  <tbody>\n",
       "    <tr>\n",
       "      <th>2</th>\n",
       "      <td>100475254</td>\n",
       "      <td>NON-CRIMINAL</td>\n",
       "      <td>AIDED CASE, MENTAL DISTURBED</td>\n",
       "      <td>Friday</td>\n",
       "      <td>08/26/2016</td>\n",
       "      <td>08:00</td>\n",
       "      <td>NORTHERN</td>\n",
       "      <td>ARREST, BOOKED</td>\n",
       "      <td>UNION ST / GOUGH ST</td>\n",
       "      <td>-122.427271</td>\n",
       "      <td>37.798134</td>\n",
       "      <td>(37.7981336020854, -122.427270640646)</td>\n",
       "      <td>10047525464020</td>\n",
       "    </tr>\n",
       "    <tr>\n",
       "      <th>7</th>\n",
       "      <td>140776777</td>\n",
       "      <td>NON-CRIMINAL</td>\n",
       "      <td>PROPERTY FOR IDENTIFICATION</td>\n",
       "      <td>Thursday</td>\n",
       "      <td>09/15/2016</td>\n",
       "      <td>07:40</td>\n",
       "      <td>INGLESIDE</td>\n",
       "      <td>ARREST, BOOKED</td>\n",
       "      <td>SILVER AV / CAMELLIA AV</td>\n",
       "      <td>-122.432326</td>\n",
       "      <td>37.729271</td>\n",
       "      <td>(37.7292705199592, -122.432325871028)</td>\n",
       "      <td>14077677773000</td>\n",
       "    </tr>\n",
       "    <tr>\n",
       "      <th>11</th>\n",
       "      <td>160008566</td>\n",
       "      <td>NON-CRIMINAL</td>\n",
       "      <td>LOST PROPERTY</td>\n",
       "      <td>Friday</td>\n",
       "      <td>01/01/2016</td>\n",
       "      <td>03:30</td>\n",
       "      <td>NORTHERN</td>\n",
       "      <td>NONE</td>\n",
       "      <td>CHESTNUT ST / AVILA ST</td>\n",
       "      <td>-122.440312</td>\n",
       "      <td>37.800301</td>\n",
       "      <td>(37.8003013096043, -122.440312380104)</td>\n",
       "      <td>16000856671000</td>\n",
       "    </tr>\n",
       "    <tr>\n",
       "      <th>25</th>\n",
       "      <td>160008801</td>\n",
       "      <td>NON-CRIMINAL</td>\n",
       "      <td>LOST PROPERTY</td>\n",
       "      <td>Friday</td>\n",
       "      <td>01/01/2016</td>\n",
       "      <td>22:00</td>\n",
       "      <td>INGLESIDE</td>\n",
       "      <td>NONE</td>\n",
       "      <td>BANKS ST / TOMPKINS AV</td>\n",
       "      <td>-122.412860</td>\n",
       "      <td>37.737035</td>\n",
       "      <td>(37.7370351099671, -122.412860391572)</td>\n",
       "      <td>16000880171000</td>\n",
       "    </tr>\n",
       "    <tr>\n",
       "      <th>30</th>\n",
       "      <td>160009053</td>\n",
       "      <td>NON-CRIMINAL</td>\n",
       "      <td>AIDED CASE, DOG BITE</td>\n",
       "      <td>Monday</td>\n",
       "      <td>01/04/2016</td>\n",
       "      <td>10:30</td>\n",
       "      <td>RICHMOND</td>\n",
       "      <td>NONE</td>\n",
       "      <td>GEARY BL / ARGUELLO BL</td>\n",
       "      <td>-122.458861</td>\n",
       "      <td>37.781255</td>\n",
       "      <td>(37.7812550935484, -122.45886061567)</td>\n",
       "      <td>16000905364010</td>\n",
       "    </tr>\n",
       "  </tbody>\n",
       "</table>\n",
       "</div>"
      ],
      "text/plain": [
       "    IncidntNum      Category                      Descript DayOfWeek  \\\n",
       "2    100475254  NON-CRIMINAL  AIDED CASE, MENTAL DISTURBED    Friday   \n",
       "7    140776777  NON-CRIMINAL   PROPERTY FOR IDENTIFICATION  Thursday   \n",
       "11   160008566  NON-CRIMINAL                 LOST PROPERTY    Friday   \n",
       "25   160008801  NON-CRIMINAL                 LOST PROPERTY    Friday   \n",
       "30   160009053  NON-CRIMINAL          AIDED CASE, DOG BITE    Monday   \n",
       "\n",
       "          Date   Time PdDistrict      Resolution                  Address  \\\n",
       "2   08/26/2016  08:00   NORTHERN  ARREST, BOOKED      UNION ST / GOUGH ST   \n",
       "7   09/15/2016  07:40  INGLESIDE  ARREST, BOOKED  SILVER AV / CAMELLIA AV   \n",
       "11  01/01/2016  03:30   NORTHERN            NONE   CHESTNUT ST / AVILA ST   \n",
       "25  01/01/2016  22:00  INGLESIDE            NONE   BANKS ST / TOMPKINS AV   \n",
       "30  01/04/2016  10:30   RICHMOND            NONE   GEARY BL / ARGUELLO BL   \n",
       "\n",
       "             X          Y                               Location  \\\n",
       "2  -122.427271  37.798134  (37.7981336020854, -122.427270640646)   \n",
       "7  -122.432326  37.729271  (37.7292705199592, -122.432325871028)   \n",
       "11 -122.440312  37.800301  (37.8003013096043, -122.440312380104)   \n",
       "25 -122.412860  37.737035  (37.7370351099671, -122.412860391572)   \n",
       "30 -122.458861  37.781255   (37.7812550935484, -122.45886061567)   \n",
       "\n",
       "              PdId  \n",
       "2   10047525464020  \n",
       "7   14077677773000  \n",
       "11  16000856671000  \n",
       "25  16000880171000  \n",
       "30  16000905364010  "
      ]
     },
     "execution_count": 41,
     "metadata": {},
     "output_type": "execute_result"
    }
   ],
   "source": [
    "other_cri = df[df['Category'] == 'NON-CRIMINAL']\n",
    "other_cri.head()"
   ]
  },
  {
   "cell_type": "code",
   "execution_count": 42,
   "metadata": {
    "collapsed": false
   },
   "outputs": [
    {
     "data": {
      "text/plain": [
       "AIDED CASE, MENTAL DISTURBED                3686\n",
       "LOST PROPERTY                               3473\n",
       "FOUND PROPERTY                              2540\n",
       "AIDED CASE                                   860\n",
       "DEATH REPORT, CAUSE UNKNOWN                  575\n",
       "AIDED CASE -PROPERTY FOR DESTRUCTION         334\n",
       "CASE CLOSURE                                 330\n",
       "STAY AWAY OR COURT ORDER, NON-DV RELATED     308\n",
       "COURTESY REPORT                              230\n",
       "SEARCH WARRANT SERVICE                       220\n",
       "Name: Descript, dtype: int64"
      ]
     },
     "execution_count": 42,
     "metadata": {},
     "output_type": "execute_result"
    }
   ],
   "source": [
    "other_cri_des = other_cri['Descript'].value_counts()\n",
    "other_cri_des.head(10)"
   ]
  },
  {
   "cell_type": "code",
   "execution_count": 43,
   "metadata": {
    "collapsed": false,
    "scrolled": true
   },
   "outputs": [
    {
     "data": {
      "text/plain": [
       "800 Block of BRYANT ST          2724\n",
       "800 Block of MARKET ST          1078\n",
       "1000 Block of POTRERO AV         505\n",
       "900 Block of MARKET ST           434\n",
       "0 Block of UNITEDNATIONS PZ      391\n",
       "500 Block of JOHNFKENNEDY DR     390\n",
       "600 Block of VALENCIA ST         318\n",
       "1100 Block of FILLMORE ST        313\n",
       "3200 Block of 20TH AV            313\n",
       "300 Block of EDDY ST             293\n",
       "Name: Address, dtype: int64"
      ]
     },
     "execution_count": 43,
     "metadata": {},
     "output_type": "execute_result"
    }
   ],
   "source": [
    "#crime addresses\n",
    "cri_add = df['Address'].value_counts()\n",
    "cri_add.head(10)"
   ]
  },
  {
   "cell_type": "code",
   "execution_count": null,
   "metadata": {
    "collapsed": true
   },
   "outputs": [],
   "source": []
  },
  {
   "cell_type": "code",
   "execution_count": 57,
   "metadata": {
    "collapsed": false,
    "scrolled": true
   },
   "outputs": [
    {
     "data": {
      "text/plain": [
       "<matplotlib.axes._subplots.AxesSubplot at 0x116c428d0>"
      ]
     },
     "execution_count": 57,
     "metadata": {},
     "output_type": "execute_result"
    },
    {
     "data": {
      "image/png": "[encoded data removed]",
      "text/plain": [
       "<matplotlib.figure.Figure at 0x116c61750>"
      ]
     },
     "metadata": {},
     "output_type": "display_data"
    }
   ],
   "source": [
    "district = df['PdDistrict'].value_counts()\n",
    "district.plot(kind='bar')"
   ]
  },
  {
   "cell_type": "code",
   "execution_count": 54,
   "metadata": {
    "collapsed": false
   },
   "outputs": [
    {
     "data": {
      "text/plain": [
       "<matplotlib.axes._subplots.AxesSubplot at 0x115dfc910>"
      ]
     },
     "execution_count": 54,
     "metadata": {},
     "output_type": "execute_result"
    },
    {
     "data": {
      "image/png": "[encoded data removed]",
      "text/plain": [
       "<matplotlib.figure.Figure at 0x115d81490>"
      ]
     },
     "metadata": {},
     "output_type": "display_data"
    }
   ],
   "source": [
    "dayofweek = df['DayOfWeek'].value_counts()\n",
    "dayofweek.plot()"
   ]
  },
  {
   "cell_type": "code",
   "execution_count": 78,
   "metadata": {
    "collapsed": false
   },
   "outputs": [],
   "source": [
    "from sklearn.preprocessing import OneHotEncoder, LabelEncoder\n",
    "la= LabelEncoder()\n",
    "cat_col = ['Category', 'Descript', 'DayOfWeek', 'PdDistrict', 'Resolution', 'Address']\n",
    "df[cat_col] = df[cat_col].apply(lambda x: la.fit_transform(x))"
   ]
  },
  {
   "cell_type": "code",
   "execution_count": 82,
   "metadata": {
    "collapsed": false
   },
   "outputs": [
    {
     "data": {
      "text/html": [
       "<div>\n",
       "<table border=\"1\" class=\"dataframe\">\n",
       "  <thead>\n",
       "    <tr style=\"text-align: right;\">\n",
       "      <th></th>\n",
       "      <th>IncidntNum</th>\n",
       "      <th>Category</th>\n",
       "      <th>Descript</th>\n",
       "      <th>DayOfWeek</th>\n",
       "      <th>Date</th>\n",
       "      <th>Time</th>\n",
       "      <th>PdDistrict</th>\n",
       "      <th>Resolution</th>\n",
       "      <th>Address</th>\n",
       "      <th>X</th>\n",
       "      <th>Y</th>\n",
       "      <th>Location</th>\n",
       "      <th>PdId</th>\n",
       "    </tr>\n",
       "  </thead>\n",
       "  <tbody>\n",
       "    <tr>\n",
       "      <th>0</th>\n",
       "      <td>100475254</td>\n",
       "      <td>1</td>\n",
       "      <td>97</td>\n",
       "      <td>0</td>\n",
       "      <td>08/26/2016</td>\n",
       "      <td>08:00</td>\n",
       "      <td>5</td>\n",
       "      <td>0</td>\n",
       "      <td>14556</td>\n",
       "      <td>-122.427271</td>\n",
       "      <td>37.798134</td>\n",
       "      <td>(37.7981336020854, -122.427270640646)</td>\n",
       "      <td>10047525404134</td>\n",
       "    </tr>\n",
       "    <tr>\n",
       "      <th>1</th>\n",
       "      <td>100475254</td>\n",
       "      <td>37</td>\n",
       "      <td>692</td>\n",
       "      <td>0</td>\n",
       "      <td>08/26/2016</td>\n",
       "      <td>08:00</td>\n",
       "      <td>5</td>\n",
       "      <td>0</td>\n",
       "      <td>14556</td>\n",
       "      <td>-122.427271</td>\n",
       "      <td>37.798134</td>\n",
       "      <td>(37.7981336020854, -122.427270640646)</td>\n",
       "      <td>10047525463010</td>\n",
       "    </tr>\n",
       "  </tbody>\n",
       "</table>\n",
       "</div>"
      ],
      "text/plain": [
       "   IncidntNum  Category  Descript  DayOfWeek        Date   Time  PdDistrict  \\\n",
       "0   100475254         1        97          0  08/26/2016  08:00           5   \n",
       "1   100475254        37       692          0  08/26/2016  08:00           5   \n",
       "\n",
       "   Resolution  Address           X          Y  \\\n",
       "0           0    14556 -122.427271  37.798134   \n",
       "1           0    14556 -122.427271  37.798134   \n",
       "\n",
       "                                Location            PdId  \n",
       "0  (37.7981336020854, -122.427270640646)  10047525404134  \n",
       "1  (37.7981336020854, -122.427270640646)  10047525463010  "
      ]
     },
     "execution_count": 82,
     "metadata": {},
     "output_type": "execute_result"
    }
   ],
   "source": [
    "df.head(2)"
   ]
  },
  {
   "cell_type": "code",
   "execution_count": 86,
   "metadata": {
    "collapsed": false
   },
   "outputs": [
    {
     "data": {
      "text/html": [
       "<div>\n",
       "<table border=\"1\" class=\"dataframe\">\n",
       "  <thead>\n",
       "    <tr style=\"text-align: right;\">\n",
       "      <th></th>\n",
       "      <th>Permit Number</th>\n",
       "      <th>Permit Type</th>\n",
       "      <th>Permit Type Definition</th>\n",
       "      <th>Permit Creation Date</th>\n",
       "      <th>Block</th>\n",
       "      <th>Lot</th>\n",
       "      <th>Street Number</th>\n",
       "      <th>Street Number Suffix</th>\n",
       "      <th>Street Name</th>\n",
       "      <th>Street Suffix</th>\n",
       "      <th>...</th>\n",
       "      <th>Use Codes</th>\n",
       "      <th>Use Code Description</th>\n",
       "      <th>Existing Construction Type</th>\n",
       "      <th>Existing Construction Type Description</th>\n",
       "      <th>Proposed Construction Type</th>\n",
       "      <th>Proposed Construction Type Description</th>\n",
       "      <th>Supervisor District</th>\n",
       "      <th>Neighborhoods - Analysis Boundaries</th>\n",
       "      <th>Zipcode</th>\n",
       "      <th>Location</th>\n",
       "    </tr>\n",
       "  </thead>\n",
       "  <tbody>\n",
       "    <tr>\n",
       "      <th>834720</th>\n",
       "      <td>200405274946</td>\n",
       "      <td>8</td>\n",
       "      <td>otc alterations permit</td>\n",
       "      <td>05/27/2004</td>\n",
       "      <td>1130</td>\n",
       "      <td>005</td>\n",
       "      <td>1039</td>\n",
       "      <td>NaN</td>\n",
       "      <td>Broderick</td>\n",
       "      <td>St</td>\n",
       "      <td>...</td>\n",
       "      <td>24</td>\n",
       "      <td>apartments</td>\n",
       "      <td>5</td>\n",
       "      <td>wood frame (5)</td>\n",
       "      <td>5</td>\n",
       "      <td>wood frame (5)</td>\n",
       "      <td>2.0</td>\n",
       "      <td>Western Addition</td>\n",
       "      <td>94115.0</td>\n",
       "      <td>(37.7799079168976, -122.440796784342)</td>\n",
       "    </tr>\n",
       "    <tr>\n",
       "      <th>27088</th>\n",
       "      <td>8702567</td>\n",
       "      <td>8</td>\n",
       "      <td>otc alterations permit</td>\n",
       "      <td>02/26/1987</td>\n",
       "      <td>6490</td>\n",
       "      <td>003</td>\n",
       "      <td>230</td>\n",
       "      <td>NaN</td>\n",
       "      <td>Lowell</td>\n",
       "      <td>St</td>\n",
       "      <td>...</td>\n",
       "      <td>61</td>\n",
       "      <td>storage shed</td>\n",
       "      <td>NaN</td>\n",
       "      <td>NaN</td>\n",
       "      <td>NaN</td>\n",
       "      <td>NaN</td>\n",
       "      <td>11.0</td>\n",
       "      <td>Excelsior</td>\n",
       "      <td>94112.0</td>\n",
       "      <td>(37.7092274018668, -122.445634026135)</td>\n",
       "    </tr>\n",
       "  </tbody>\n",
       "</table>\n",
       "<p>2 rows × 39 columns</p>\n",
       "</div>"
      ],
      "text/plain": [
       "       Permit Number  Permit Type  Permit Type Definition  \\\n",
       "834720  200405274946            8  otc alterations permit   \n",
       "27088        8702567            8  otc alterations permit   \n",
       "\n",
       "       Permit Creation Date Block  Lot  Street Number Street Number Suffix  \\\n",
       "834720           05/27/2004  1130  005           1039                  NaN   \n",
       "27088            02/26/1987  6490  003            230                  NaN   \n",
       "\n",
       "       Street Name Street Suffix                  ...                    \\\n",
       "834720   Broderick            St                  ...                     \n",
       "27088       Lowell            St                  ...                     \n",
       "\n",
       "        Use Codes Use Code Description Existing Construction Type  \\\n",
       "834720         24           apartments                          5   \n",
       "27088          61         storage shed                        NaN   \n",
       "\n",
       "       Existing Construction Type Description Proposed Construction Type  \\\n",
       "834720                         wood frame (5)                          5   \n",
       "27088                                     NaN                        NaN   \n",
       "\n",
       "       Proposed Construction Type Description  Supervisor District  \\\n",
       "834720                         wood frame (5)                  2.0   \n",
       "27088                                     NaN                 11.0   \n",
       "\n",
       "        Neighborhoods - Analysis Boundaries  Zipcode  \\\n",
       "834720                     Western Addition  94115.0   \n",
       "27088                             Excelsior  94112.0   \n",
       "\n",
       "                                     Location  \n",
       "834720  (37.7799079168976, -122.440796784342)  \n",
       "27088   (37.7092274018668, -122.445634026135)  \n",
       "\n",
       "[2 rows x 39 columns]"
      ]
     },
     "execution_count": 86,
     "metadata": {},
     "output_type": "execute_result"
    }
   ],
   "source": [
    "building_type_sample.head(2)"
   ]
  },
  {
   "cell_type": "code",
   "execution_count": 94,
   "metadata": {
    "collapsed": false
   },
   "outputs": [],
   "source": [
    "#building_type_sample['Use Code Description'].value_counts()"
   ]
  },
  {
   "cell_type": "code",
   "execution_count": 91,
   "metadata": {
    "collapsed": true
   },
   "outputs": [],
   "source": [
    "geo_feature = ['Use Codes', 'Use Code Description', 'Neighborhoods - Analysis Boundaries', 'Zipcode', 'Location']"
   ]
  },
  {
   "cell_type": "code",
   "execution_count": 47,
   "metadata": {
    "collapsed": false
   },
   "outputs": [],
   "source": [
    "from geopy.geocoders import Nominatim\n"
   ]
  },
  {
   "cell_type": "code",
   "execution_count": null,
   "metadata": {
    "collapsed": true
   },
   "outputs": [],
   "source": []
  },
  {
   "cell_type": "code",
   "execution_count": null,
   "metadata": {
    "collapsed": true
   },
   "outputs": [],
   "source": []
  },
  {
   "cell_type": "code",
   "execution_count": null,
   "metadata": {
    "collapsed": true
   },
   "outputs": [],
   "source": []
  }
 ],
 "metadata": {
  "anaconda-cloud": {},
  "kernelspec": {
   "display_name": "Python [dsi]",
   "language": "python",
   "name": "Python [dsi]"
  },
  "language_info": {
   "codemirror_mode": {
    "name": "ipython",
    "version": 2
   },
   "file_extension": ".py",
   "mimetype": "text/x-python",
   "name": "python",
   "nbconvert_exporter": "python",
   "pygments_lexer": "ipython2",
   "version": "2.7.12"
  }
 },
 "nbformat": 4,
 "nbformat_minor": 0
}
