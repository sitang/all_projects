{
 "cells": [
  {
   "cell_type": "markdown",
   "metadata": {},
   "source": [
    "<img src=\"http://imgur.com/1ZcRyrc.png\" style=\"float: left; margin: 15px; height: 80px\">\n",
    "\n",
    "# Project 4: Classification with Yelp, SGD, OOP"
   ]
  },
  {
   "cell_type": "markdown",
   "metadata": {},
   "source": [
    "## Yelp\n",
    "\n",
    "---\n",
    "\n",
    "In this project you will be investigating a small version of the [Yelp challenge dataset](https://www.yelp.com/dataset_challenge). You'll practice using classification algorithms, cross-validation, gridsearching – all that good stuff.\n",
    "\n",
    "---\n",
    "\n",
    "### The data\n",
    "\n",
    "There are 5 individual .csv files that have the information, zipped into .7z format like with the SF data last project. The dataset is located in your datasets folder:\n",
    "\n",
    "    DSI-SF-2/datasets/yelp_arizona_data.7z\n",
    "\n",
    "The columns in each are:\n",
    "\n",
    "    businesses_small_parsed.csv\n",
    "        business_id: unique business identifier\n",
    "        name: name of the business\n",
    "        review_count: number of reviews per business\n",
    "        city: city business resides in\n",
    "        stars: average rating\n",
    "        categories: categories the business falls into (can be one or multiple)\n",
    "        latitude\n",
    "        longitude\n",
    "        neighborhoods: neighborhoods business belongs to\n",
    "        variable: \"property\" of the business (a tag)\n",
    "        value: True/False for the property\n",
    "        \n",
    "    reviews_small_nlp_parsed.csv\n",
    "        user_id: unique user identifier\n",
    "        review_id: unique review identifier\n",
    "        votes.cool: how many thought the review was \"cool\"\n",
    "        business_id: unique business id the review is for\n",
    "        votes.funny: how many thought the review was funny\n",
    "        stars: rating given\n",
    "        date: date of review\n",
    "        votes.useful: how many thought the review was useful\n",
    "        ... 100 columns of counts of most common 2 word phrases that appear in reviews in this review\n",
    "        \n",
    "    users_small_parsed.csv\n",
    "        yelping_since: signup date\n",
    "        compliments.plain: # of compliments \"plain\"\n",
    "        review_count: # of reviews:\n",
    "        compliments.cute: total # of compliments \"cute\"\n",
    "        compliments.writer: # of compliments \"writer\"\n",
    "        compliments.note: # of compliments \"note\" (not sure what this is)\n",
    "        compliments.hot: # of compliments \"hot\" (?)\n",
    "        compliments.cool: # of compliments \"cool\"\n",
    "        compliments.profile: # of compliments \"profile\"\n",
    "        average_stars: average rating\n",
    "        compliments.more: # of compliments \"more\"\n",
    "        elite: years considered \"elite\"\n",
    "        name: user's name\n",
    "        user_id: unique user id\n",
    "        votes.cool: # of votes \"cool\"\n",
    "        compliments.list: # of compliments \"list\"\n",
    "        votes.funny: # of compliments \"funny\"\n",
    "        compliments.photos: # of compliments \"photos\"\n",
    "        compliments.funny: # of compliments \"funny\"\n",
    "        votes.useful: # of votes \"useful\"\n",
    "       \n",
    "    checkins_small_parsed.csv\n",
    "        business_id: unique business identifier\n",
    "        variable: day-time identifier of checkins (0-0 is Sunday 0:00 - 1:00am,  for example)\n",
    "        value: # of checkins at that time\n",
    "    \n",
    "    tips_small_nlp_parsed.csv\n",
    "        user_id: unique user identifier\n",
    "        business_id: unique business identifier\n",
    "        likes: likes that the tip has\n",
    "        date: date of tip\n",
    "        ... 100 columns of counts of most common 2 word phrases that appear in tips in this tip\n",
    "\n",
    "The reviews and tips datasets in particular have parsed \"NLP\" columns with counts of 2-word phrases in that review or tip (a \"tip\", it seems, is some kind of smaller review).\n",
    "\n",
    "The user dataset has a lot of columns of counts of different compliments and votes. I'm not sure whether the compliments or votes are _by_ the user or _for_ the user.\n",
    "\n",
    "---\n",
    "\n",
    "If you look at the website, or the full data, you'll see I have removed pieces of the data and cut it down quite a bit. This is to simplify it for this project. Specifically, business are limited to be in these cities:\n",
    "\n",
    "    Phoenix\n",
    "    Surprise\n",
    "    Las Vegas\n",
    "    Waterloo\n",
    "\n",
    "Apparently there is a city called \"Surprise\" in Arizona. \n",
    "\n",
    "Businesses are also restricted to at least be in one of the following categories, because I thought the mix of them was funny:\n",
    "\n",
    "    Airports\n",
    "    Breakfast & Brunch\n",
    "    Bubble Tea\n",
    "    Burgers\n",
    "    Bars\n",
    "    Bakeries\n",
    "    Breweries\n",
    "    Cafes\n",
    "    Candy Stores\n",
    "    Comedy Clubs\n",
    "    Courthouses\n",
    "    Dance Clubs\n",
    "    Fast Food\n",
    "    Museums\n",
    "    Tattoo\n",
    "    Vape Shops\n",
    "    Yoga\n",
    "    \n",
    "---\n",
    "\n",
    "### Project requirements\n",
    "\n",
    "**You will be performing 4 different sections of analysis, like in the last project.**\n",
    "\n",
    "Remember that classification targets are categorical and regression targets are continuous variables."
   ]
  },
  {
   "cell_type": "markdown",
   "metadata": {},
   "source": [
    "<img src=\"http://imgur.com/l5NasQj.png\" style=\"float: left; margin: 25px 15px 0px 0px; height: 25px\">\n",
    "\n",
    "## 1. Constructing a \"profile\" for Las Vegas\n",
    "\n",
    "---\n",
    "\n",
    "Yelp is interested in building out what they are calling \"profiles\" for cities. They want you to start with just Las Vegas to see what a prototype of this would look like. Essentially, they want to know what makes Las Vegas distinct from the other four.\n",
    "\n",
    "Use the data you have to predict Las Vegas from the other variables you have. You should not be predicting the city from any kind of location data or other data perfectly associated with that city (or another city).\n",
    "\n",
    "You may use any classification algorithm you deem appropriate, or even multiple models. You should:\n",
    "\n",
    "1. Build at least one model predicting Las Vegas vs. the other cities.\n",
    "- Validate your model(s).\n",
    "- Interpret and visualize, in some way, the results.\n",
    "- Write up a \"profile\" for Las Vegas. This should be a writeup converting your findings from the model(s) into a human-readable description of the city."
   ]
  },
  {
   "cell_type": "code",
   "execution_count": 1,
   "metadata": {
    "collapsed": true
   },
   "outputs": [],
   "source": [
    "import pandas as pd\n",
    "import numpy as np\n",
    "import seaborn as sns\n",
    "import re\n",
    "from sklearn.neighbors import KNeighborsClassifier\n",
    "from sklearn.cross_validation import cross_val_score, StratifiedKFold\n",
    "from sklearn.grid_search import GridSearchCV\n",
    "from sklearn.linear_model import LogisticRegression\n",
    "\n",
    "from matplotlib import pyplot as plt\n",
    "plt.style.use('fivethirtyeight')\n",
    "%matplotlib inline"
   ]
  },
  {
   "cell_type": "code",
   "execution_count": 2,
   "metadata": {
    "collapsed": true
   },
   "outputs": [],
   "source": [
    "file_dir = '../../datasets/yelp_arizona_data/'"
   ]
  },
  {
   "cell_type": "code",
   "execution_count": 3,
   "metadata": {
    "collapsed": true
   },
   "outputs": [],
   "source": [
    "business = pd.read_csv(file_dir+'businesses_small_parsed.csv')"
   ]
  },
  {
   "cell_type": "code",
   "execution_count": 4,
   "metadata": {
    "collapsed": true
   },
   "outputs": [],
   "source": [
    "users = pd.read_csv(file_dir+'users_small_parsed.csv')"
   ]
  },
  {
   "cell_type": "code",
   "execution_count": 5,
   "metadata": {
    "collapsed": false
   },
   "outputs": [
    {
     "data": {
      "text/html": [
       "<div>\n",
       "<table border=\"1\" class=\"dataframe\">\n",
       "  <thead>\n",
       "    <tr style=\"text-align: right;\">\n",
       "      <th></th>\n",
       "      <th>business_id</th>\n",
       "      <th>name</th>\n",
       "      <th>review_count</th>\n",
       "      <th>city</th>\n",
       "      <th>stars</th>\n",
       "      <th>categories</th>\n",
       "      <th>latitude</th>\n",
       "      <th>longitude</th>\n",
       "      <th>neighborhoods</th>\n",
       "      <th>variable</th>\n",
       "      <th>value</th>\n",
       "    </tr>\n",
       "  </thead>\n",
       "  <tbody>\n",
       "    <tr>\n",
       "      <th>0</th>\n",
       "      <td>EmzaQR5hQlF0WIl24NxAZA</td>\n",
       "      <td>Sky Lounge</td>\n",
       "      <td>25</td>\n",
       "      <td>Phoenix</td>\n",
       "      <td>2.5</td>\n",
       "      <td>['American (New)', 'Nightlife', 'Dance Clubs',...</td>\n",
       "      <td>33.448399</td>\n",
       "      <td>-112.071702</td>\n",
       "      <td>[]</td>\n",
       "      <td>attributes.Ambience.divey</td>\n",
       "      <td>False</td>\n",
       "    </tr>\n",
       "    <tr>\n",
       "      <th>1</th>\n",
       "      <td>SiwN7f0N4bs4ZtPc4yPgiA</td>\n",
       "      <td>Palazzo</td>\n",
       "      <td>19</td>\n",
       "      <td>Phoenix</td>\n",
       "      <td>3.0</td>\n",
       "      <td>['Bars', 'Nightlife', 'Dance Clubs']</td>\n",
       "      <td>33.455885</td>\n",
       "      <td>-112.074177</td>\n",
       "      <td>[]</td>\n",
       "      <td>attributes.Ambience.divey</td>\n",
       "      <td>False</td>\n",
       "    </tr>\n",
       "  </tbody>\n",
       "</table>\n",
       "</div>"
      ],
      "text/plain": [
       "              business_id        name  review_count     city  stars  \\\n",
       "0  EmzaQR5hQlF0WIl24NxAZA  Sky Lounge            25  Phoenix    2.5   \n",
       "1  SiwN7f0N4bs4ZtPc4yPgiA     Palazzo            19  Phoenix    3.0   \n",
       "\n",
       "                                          categories   latitude   longitude  \\\n",
       "0  ['American (New)', 'Nightlife', 'Dance Clubs',...  33.448399 -112.071702   \n",
       "1               ['Bars', 'Nightlife', 'Dance Clubs']  33.455885 -112.074177   \n",
       "\n",
       "  neighborhoods                   variable  value  \n",
       "0            []  attributes.Ambience.divey  False  \n",
       "1            []  attributes.Ambience.divey  False  "
      ]
     },
     "execution_count": 5,
     "metadata": {},
     "output_type": "execute_result"
    }
   ],
   "source": [
    "business.head(2)"
   ]
  },
  {
   "cell_type": "code",
   "execution_count": 6,
   "metadata": {
    "collapsed": false
   },
   "outputs": [
    {
     "data": {
      "text/html": [
       "<div>\n",
       "<table border=\"1\" class=\"dataframe\">\n",
       "  <thead>\n",
       "    <tr style=\"text-align: right;\">\n",
       "      <th>variable</th>\n",
       "      <th>business_id</th>\n",
       "      <th>attributes.Accepts Credit Cards</th>\n",
       "      <th>attributes.Accepts Insurance</th>\n",
       "      <th>attributes.Ages Allowed</th>\n",
       "      <th>attributes.Alcohol</th>\n",
       "      <th>attributes.Ambience.casual</th>\n",
       "      <th>attributes.Ambience.classy</th>\n",
       "      <th>attributes.Ambience.divey</th>\n",
       "      <th>attributes.Ambience.hipster</th>\n",
       "      <th>attributes.Ambience.intimate</th>\n",
       "      <th>...</th>\n",
       "      <th>hours.Saturday.open</th>\n",
       "      <th>hours.Sunday.close</th>\n",
       "      <th>hours.Sunday.open</th>\n",
       "      <th>hours.Thursday.close</th>\n",
       "      <th>hours.Thursday.open</th>\n",
       "      <th>hours.Tuesday.close</th>\n",
       "      <th>hours.Tuesday.open</th>\n",
       "      <th>hours.Wednesday.close</th>\n",
       "      <th>hours.Wednesday.open</th>\n",
       "      <th>open</th>\n",
       "    </tr>\n",
       "  </thead>\n",
       "  <tbody>\n",
       "    <tr>\n",
       "      <th>0</th>\n",
       "      <td>--jFTZmywe7StuZ2hEjxyA</td>\n",
       "      <td>True</td>\n",
       "      <td>None</td>\n",
       "      <td>None</td>\n",
       "      <td>none</td>\n",
       "      <td>None</td>\n",
       "      <td>None</td>\n",
       "      <td>None</td>\n",
       "      <td>None</td>\n",
       "      <td>None</td>\n",
       "      <td>...</td>\n",
       "      <td>None</td>\n",
       "      <td>None</td>\n",
       "      <td>None</td>\n",
       "      <td>None</td>\n",
       "      <td>None</td>\n",
       "      <td>None</td>\n",
       "      <td>None</td>\n",
       "      <td>None</td>\n",
       "      <td>None</td>\n",
       "      <td>True</td>\n",
       "    </tr>\n",
       "    <tr>\n",
       "      <th>1</th>\n",
       "      <td>-0HGqwlfw3I8nkJyMHxAsQ</td>\n",
       "      <td>True</td>\n",
       "      <td>None</td>\n",
       "      <td>None</td>\n",
       "      <td>none</td>\n",
       "      <td>None</td>\n",
       "      <td>None</td>\n",
       "      <td>None</td>\n",
       "      <td>None</td>\n",
       "      <td>None</td>\n",
       "      <td>...</td>\n",
       "      <td>None</td>\n",
       "      <td>None</td>\n",
       "      <td>None</td>\n",
       "      <td>None</td>\n",
       "      <td>None</td>\n",
       "      <td>None</td>\n",
       "      <td>None</td>\n",
       "      <td>None</td>\n",
       "      <td>None</td>\n",
       "      <td>True</td>\n",
       "    </tr>\n",
       "  </tbody>\n",
       "</table>\n",
       "<p>2 rows × 79 columns</p>\n",
       "</div>"
      ],
      "text/plain": [
       "variable             business_id attributes.Accepts Credit Cards  \\\n",
       "0         --jFTZmywe7StuZ2hEjxyA                            True   \n",
       "1         -0HGqwlfw3I8nkJyMHxAsQ                            True   \n",
       "\n",
       "variable attributes.Accepts Insurance attributes.Ages Allowed  \\\n",
       "0                                None                    None   \n",
       "1                                None                    None   \n",
       "\n",
       "variable attributes.Alcohol attributes.Ambience.casual  \\\n",
       "0                      none                       None   \n",
       "1                      none                       None   \n",
       "\n",
       "variable attributes.Ambience.classy attributes.Ambience.divey  \\\n",
       "0                              None                      None   \n",
       "1                              None                      None   \n",
       "\n",
       "variable attributes.Ambience.hipster attributes.Ambience.intimate  ...   \\\n",
       "0                               None                         None  ...    \n",
       "1                               None                         None  ...    \n",
       "\n",
       "variable hours.Saturday.open hours.Sunday.close hours.Sunday.open  \\\n",
       "0                       None               None              None   \n",
       "1                       None               None              None   \n",
       "\n",
       "variable hours.Thursday.close hours.Thursday.open hours.Tuesday.close  \\\n",
       "0                        None                None                None   \n",
       "1                        None                None                None   \n",
       "\n",
       "variable hours.Tuesday.open hours.Wednesday.close hours.Wednesday.open  open  \n",
       "0                      None                  None                 None  True  \n",
       "1                      None                  None                 None  True  \n",
       "\n",
       "[2 rows x 79 columns]"
      ]
     },
     "execution_count": 6,
     "metadata": {},
     "output_type": "execute_result"
    }
   ],
   "source": [
    "business_long = business.pivot(index='business_id',columns='variable', values='value').reset_index()\n",
    "business_long.head(2)\n",
    "#adding attribut"
   ]
  },
  {
   "cell_type": "code",
   "execution_count": 7,
   "metadata": {
    "collapsed": true
   },
   "outputs": [],
   "source": [
    "#only look at places that are still open\n",
    "business_long = business_long[business_long['open'] == 'True']"
   ]
  },
  {
   "cell_type": "code",
   "execution_count": 8,
   "metadata": {
    "collapsed": false
   },
   "outputs": [],
   "source": [
    "def col_format(col):\n",
    "    if col in ['business_id', 'open']:\n",
    "        return col\n",
    "    else:\n",
    "        c_reformat = col.split('.')\n",
    "        return '_'.join(map(lambda s: s.replace(' ','_').lower(), c_reformat[1:]))\n",
    "\n",
    "business_long.columns = map(col_format, business_long.columns)"
   ]
  },
  {
   "cell_type": "code",
   "execution_count": 9,
   "metadata": {
    "collapsed": false
   },
   "outputs": [
    {
     "data": {
      "text/html": [
       "<div>\n",
       "<table border=\"1\" class=\"dataframe\">\n",
       "  <thead>\n",
       "    <tr style=\"text-align: right;\">\n",
       "      <th></th>\n",
       "      <th>business_id</th>\n",
       "      <th>accepts_credit_cards</th>\n",
       "      <th>accepts_insurance</th>\n",
       "      <th>ages_allowed</th>\n",
       "      <th>alcohol</th>\n",
       "      <th>ambience_casual</th>\n",
       "      <th>ambience_classy</th>\n",
       "      <th>ambience_divey</th>\n",
       "      <th>ambience_hipster</th>\n",
       "      <th>ambience_intimate</th>\n",
       "      <th>...</th>\n",
       "      <th>saturday_open</th>\n",
       "      <th>sunday_close</th>\n",
       "      <th>sunday_open</th>\n",
       "      <th>thursday_close</th>\n",
       "      <th>thursday_open</th>\n",
       "      <th>tuesday_close</th>\n",
       "      <th>tuesday_open</th>\n",
       "      <th>wednesday_close</th>\n",
       "      <th>wednesday_open</th>\n",
       "      <th>open</th>\n",
       "    </tr>\n",
       "  </thead>\n",
       "  <tbody>\n",
       "    <tr>\n",
       "      <th>0</th>\n",
       "      <td>--jFTZmywe7StuZ2hEjxyA</td>\n",
       "      <td>True</td>\n",
       "      <td>None</td>\n",
       "      <td>None</td>\n",
       "      <td>none</td>\n",
       "      <td>None</td>\n",
       "      <td>None</td>\n",
       "      <td>None</td>\n",
       "      <td>None</td>\n",
       "      <td>None</td>\n",
       "      <td>...</td>\n",
       "      <td>None</td>\n",
       "      <td>None</td>\n",
       "      <td>None</td>\n",
       "      <td>None</td>\n",
       "      <td>None</td>\n",
       "      <td>None</td>\n",
       "      <td>None</td>\n",
       "      <td>None</td>\n",
       "      <td>None</td>\n",
       "      <td>True</td>\n",
       "    </tr>\n",
       "    <tr>\n",
       "      <th>1</th>\n",
       "      <td>-0HGqwlfw3I8nkJyMHxAsQ</td>\n",
       "      <td>True</td>\n",
       "      <td>None</td>\n",
       "      <td>None</td>\n",
       "      <td>none</td>\n",
       "      <td>None</td>\n",
       "      <td>None</td>\n",
       "      <td>None</td>\n",
       "      <td>None</td>\n",
       "      <td>None</td>\n",
       "      <td>...</td>\n",
       "      <td>None</td>\n",
       "      <td>None</td>\n",
       "      <td>None</td>\n",
       "      <td>None</td>\n",
       "      <td>None</td>\n",
       "      <td>None</td>\n",
       "      <td>None</td>\n",
       "      <td>None</td>\n",
       "      <td>None</td>\n",
       "      <td>True</td>\n",
       "    </tr>\n",
       "    <tr>\n",
       "      <th>2</th>\n",
       "      <td>-0VK5Z1BfUHUYq4PoBYNLw</td>\n",
       "      <td>True</td>\n",
       "      <td>None</td>\n",
       "      <td>None</td>\n",
       "      <td>full_bar</td>\n",
       "      <td>True</td>\n",
       "      <td>False</td>\n",
       "      <td>False</td>\n",
       "      <td>False</td>\n",
       "      <td>False</td>\n",
       "      <td>...</td>\n",
       "      <td>None</td>\n",
       "      <td>None</td>\n",
       "      <td>None</td>\n",
       "      <td>None</td>\n",
       "      <td>None</td>\n",
       "      <td>None</td>\n",
       "      <td>None</td>\n",
       "      <td>None</td>\n",
       "      <td>None</td>\n",
       "      <td>True</td>\n",
       "    </tr>\n",
       "    <tr>\n",
       "      <th>4</th>\n",
       "      <td>-1bOb2izeJBZjHC7NWxiPA</td>\n",
       "      <td>True</td>\n",
       "      <td>None</td>\n",
       "      <td>None</td>\n",
       "      <td>none</td>\n",
       "      <td>True</td>\n",
       "      <td>False</td>\n",
       "      <td>False</td>\n",
       "      <td>False</td>\n",
       "      <td>False</td>\n",
       "      <td>...</td>\n",
       "      <td>06:30</td>\n",
       "      <td>14:30</td>\n",
       "      <td>06:30</td>\n",
       "      <td>14:30</td>\n",
       "      <td>06:30</td>\n",
       "      <td>14:30</td>\n",
       "      <td>06:30</td>\n",
       "      <td>14:30</td>\n",
       "      <td>06:30</td>\n",
       "      <td>True</td>\n",
       "    </tr>\n",
       "    <tr>\n",
       "      <th>5</th>\n",
       "      <td>-2_O3_WKgO5In5XO5extNQ</td>\n",
       "      <td>True</td>\n",
       "      <td>None</td>\n",
       "      <td>None</td>\n",
       "      <td>None</td>\n",
       "      <td>None</td>\n",
       "      <td>None</td>\n",
       "      <td>None</td>\n",
       "      <td>None</td>\n",
       "      <td>None</td>\n",
       "      <td>...</td>\n",
       "      <td>08:00</td>\n",
       "      <td>13:30</td>\n",
       "      <td>08:00</td>\n",
       "      <td>17:00</td>\n",
       "      <td>09:00</td>\n",
       "      <td>17:00</td>\n",
       "      <td>09:00</td>\n",
       "      <td>17:00</td>\n",
       "      <td>09:00</td>\n",
       "      <td>True</td>\n",
       "    </tr>\n",
       "  </tbody>\n",
       "</table>\n",
       "<p>5 rows × 79 columns</p>\n",
       "</div>"
      ],
      "text/plain": [
       "              business_id accepts_credit_cards accepts_insurance ages_allowed  \\\n",
       "0  --jFTZmywe7StuZ2hEjxyA                 True              None         None   \n",
       "1  -0HGqwlfw3I8nkJyMHxAsQ                 True              None         None   \n",
       "2  -0VK5Z1BfUHUYq4PoBYNLw                 True              None         None   \n",
       "4  -1bOb2izeJBZjHC7NWxiPA                 True              None         None   \n",
       "5  -2_O3_WKgO5In5XO5extNQ                 True              None         None   \n",
       "\n",
       "    alcohol ambience_casual ambience_classy ambience_divey ambience_hipster  \\\n",
       "0      none            None            None           None             None   \n",
       "1      none            None            None           None             None   \n",
       "2  full_bar            True           False          False            False   \n",
       "4      none            True           False          False            False   \n",
       "5      None            None            None           None             None   \n",
       "\n",
       "  ambience_intimate  ...  saturday_open sunday_close sunday_open  \\\n",
       "0              None  ...           None         None        None   \n",
       "1              None  ...           None         None        None   \n",
       "2             False  ...           None         None        None   \n",
       "4             False  ...          06:30        14:30       06:30   \n",
       "5              None  ...          08:00        13:30       08:00   \n",
       "\n",
       "  thursday_close thursday_open tuesday_close tuesday_open wednesday_close  \\\n",
       "0           None          None          None         None            None   \n",
       "1           None          None          None         None            None   \n",
       "2           None          None          None         None            None   \n",
       "4          14:30         06:30         14:30        06:30           14:30   \n",
       "5          17:00         09:00         17:00        09:00           17:00   \n",
       "\n",
       "  wednesday_open  open  \n",
       "0           None  True  \n",
       "1           None  True  \n",
       "2           None  True  \n",
       "4          06:30  True  \n",
       "5          09:00  True  \n",
       "\n",
       "[5 rows x 79 columns]"
      ]
     },
     "execution_count": 9,
     "metadata": {},
     "output_type": "execute_result"
    }
   ],
   "source": [
    "business_long.head()"
   ]
  },
  {
   "cell_type": "code",
   "execution_count": 10,
   "metadata": {
    "collapsed": false
   },
   "outputs": [],
   "source": [
    "business_long = business_long.fillna(0)"
   ]
  },
  {
   "cell_type": "code",
   "execution_count": 11,
   "metadata": {
    "collapsed": false
   },
   "outputs": [],
   "source": [
    "#replace True with 1 and False/None with 0\n",
    "def covert_value(df):\n",
    "    for column in df.columns:\n",
    "        func = lambda x: 0 if x in ['False', 'None', 'none', 0] else 1\n",
    "        business_long[column] = business_long[column].apply(func)\n",
    "    return business_long"
   ]
  },
  {
   "cell_type": "code",
   "execution_count": 12,
   "metadata": {
    "collapsed": false
   },
   "outputs": [],
   "source": [
    "#covert categorical values into 1 or 0 except business_id column\n",
    "business_long = covert_value(business_long.iloc[:, 1:])"
   ]
  },
  {
   "cell_type": "code",
   "execution_count": 13,
   "metadata": {
    "collapsed": false
   },
   "outputs": [],
   "source": [
    "business_cat = business.drop_duplicates(subset=['business_id', 'review_count', 'categories', 'city', 'stars'],\n",
    "                                        keep='first')[['business_id', 'city', 'review_count', 'stars', 'categories']]\n",
    "cat_list = []\n",
    "for i in business_cat['categories']:\n",
    "    for item in eval(i):\n",
    "        cat_list.append(item)\n",
    "cat_list = set(cat_list)\n",
    "\n",
    "for tag in cat_list:\n",
    "    business_cat[tag] = business_cat['categories'].apply(lambda x: int(tag in x))\n",
    "#business_cat['categories'] = business_cat['categories'].apply(lambda x: x.strip('[]'))\n",
    "#business_cat['categories'] = business_cat.categories.apply(lambda x: x.replace('\\'', ''))"
   ]
  },
  {
   "cell_type": "code",
   "execution_count": 14,
   "metadata": {
    "collapsed": false
   },
   "outputs": [
    {
     "data": {
      "text/html": [
       "<div>\n",
       "<table border=\"1\" class=\"dataframe\">\n",
       "  <thead>\n",
       "    <tr style=\"text-align: right;\">\n",
       "      <th></th>\n",
       "      <th>business_id</th>\n",
       "      <th>city</th>\n",
       "      <th>review_count</th>\n",
       "      <th>stars</th>\n",
       "      <th>categories</th>\n",
       "      <th>Street Vendors</th>\n",
       "      <th>Tapas/Small Plates</th>\n",
       "      <th>Fondue</th>\n",
       "      <th>Buffets</th>\n",
       "      <th>Gluten-Free</th>\n",
       "      <th>...</th>\n",
       "      <th>Barre Classes</th>\n",
       "      <th>Local Flavor</th>\n",
       "      <th>Meat Shops</th>\n",
       "      <th>Japanese</th>\n",
       "      <th>Books, Mags, Music &amp; Video</th>\n",
       "      <th>Arcades</th>\n",
       "      <th>Specialty Food</th>\n",
       "      <th>Spanish</th>\n",
       "      <th>Cabaret</th>\n",
       "      <th>Soul Food</th>\n",
       "    </tr>\n",
       "  </thead>\n",
       "  <tbody>\n",
       "    <tr>\n",
       "      <th>0</th>\n",
       "      <td>EmzaQR5hQlF0WIl24NxAZA</td>\n",
       "      <td>Phoenix</td>\n",
       "      <td>25</td>\n",
       "      <td>2.5</td>\n",
       "      <td>['American (New)', 'Nightlife', 'Dance Clubs',...</td>\n",
       "      <td>0</td>\n",
       "      <td>0</td>\n",
       "      <td>0</td>\n",
       "      <td>0</td>\n",
       "      <td>0</td>\n",
       "      <td>...</td>\n",
       "      <td>0</td>\n",
       "      <td>0</td>\n",
       "      <td>0</td>\n",
       "      <td>0</td>\n",
       "      <td>0</td>\n",
       "      <td>0</td>\n",
       "      <td>0</td>\n",
       "      <td>0</td>\n",
       "      <td>0</td>\n",
       "      <td>0</td>\n",
       "    </tr>\n",
       "    <tr>\n",
       "      <th>1</th>\n",
       "      <td>SiwN7f0N4bs4ZtPc4yPgiA</td>\n",
       "      <td>Phoenix</td>\n",
       "      <td>19</td>\n",
       "      <td>3.0</td>\n",
       "      <td>['Bars', 'Nightlife', 'Dance Clubs']</td>\n",
       "      <td>0</td>\n",
       "      <td>0</td>\n",
       "      <td>0</td>\n",
       "      <td>0</td>\n",
       "      <td>0</td>\n",
       "      <td>...</td>\n",
       "      <td>0</td>\n",
       "      <td>0</td>\n",
       "      <td>0</td>\n",
       "      <td>0</td>\n",
       "      <td>0</td>\n",
       "      <td>0</td>\n",
       "      <td>0</td>\n",
       "      <td>0</td>\n",
       "      <td>0</td>\n",
       "      <td>0</td>\n",
       "    </tr>\n",
       "    <tr>\n",
       "      <th>2</th>\n",
       "      <td>e5kc0CQ4R-PCCDgb274gSg</td>\n",
       "      <td>Phoenix</td>\n",
       "      <td>238</td>\n",
       "      <td>3.5</td>\n",
       "      <td>['Cafes', 'Mexican', 'Tex-Mex', 'Restaurants']</td>\n",
       "      <td>0</td>\n",
       "      <td>0</td>\n",
       "      <td>0</td>\n",
       "      <td>0</td>\n",
       "      <td>0</td>\n",
       "      <td>...</td>\n",
       "      <td>0</td>\n",
       "      <td>0</td>\n",
       "      <td>0</td>\n",
       "      <td>0</td>\n",
       "      <td>0</td>\n",
       "      <td>0</td>\n",
       "      <td>0</td>\n",
       "      <td>0</td>\n",
       "      <td>0</td>\n",
       "      <td>0</td>\n",
       "    </tr>\n",
       "    <tr>\n",
       "      <th>3</th>\n",
       "      <td>neGAQFkBNI8-rpPBLBzNkw</td>\n",
       "      <td>Phoenix</td>\n",
       "      <td>10</td>\n",
       "      <td>4.0</td>\n",
       "      <td>['Fast Food', 'Mexican', 'Tex-Mex', 'Restauran...</td>\n",
       "      <td>0</td>\n",
       "      <td>0</td>\n",
       "      <td>0</td>\n",
       "      <td>0</td>\n",
       "      <td>0</td>\n",
       "      <td>...</td>\n",
       "      <td>0</td>\n",
       "      <td>0</td>\n",
       "      <td>0</td>\n",
       "      <td>0</td>\n",
       "      <td>0</td>\n",
       "      <td>0</td>\n",
       "      <td>0</td>\n",
       "      <td>0</td>\n",
       "      <td>0</td>\n",
       "      <td>0</td>\n",
       "    </tr>\n",
       "    <tr>\n",
       "      <th>4</th>\n",
       "      <td>45puCRQ6Vh_IIAy7kkfFDQ</td>\n",
       "      <td>Phoenix</td>\n",
       "      <td>205</td>\n",
       "      <td>3.5</td>\n",
       "      <td>['Bars', 'Restaurants', 'American (Traditional...</td>\n",
       "      <td>0</td>\n",
       "      <td>0</td>\n",
       "      <td>0</td>\n",
       "      <td>0</td>\n",
       "      <td>0</td>\n",
       "      <td>...</td>\n",
       "      <td>0</td>\n",
       "      <td>0</td>\n",
       "      <td>0</td>\n",
       "      <td>0</td>\n",
       "      <td>0</td>\n",
       "      <td>0</td>\n",
       "      <td>0</td>\n",
       "      <td>0</td>\n",
       "      <td>0</td>\n",
       "      <td>0</td>\n",
       "    </tr>\n",
       "  </tbody>\n",
       "</table>\n",
       "<p>5 rows × 215 columns</p>\n",
       "</div>"
      ],
      "text/plain": [
       "              business_id     city  review_count  stars  \\\n",
       "0  EmzaQR5hQlF0WIl24NxAZA  Phoenix            25    2.5   \n",
       "1  SiwN7f0N4bs4ZtPc4yPgiA  Phoenix            19    3.0   \n",
       "2  e5kc0CQ4R-PCCDgb274gSg  Phoenix           238    3.5   \n",
       "3  neGAQFkBNI8-rpPBLBzNkw  Phoenix            10    4.0   \n",
       "4  45puCRQ6Vh_IIAy7kkfFDQ  Phoenix           205    3.5   \n",
       "\n",
       "                                          categories  Street Vendors  \\\n",
       "0  ['American (New)', 'Nightlife', 'Dance Clubs',...               0   \n",
       "1               ['Bars', 'Nightlife', 'Dance Clubs']               0   \n",
       "2     ['Cafes', 'Mexican', 'Tex-Mex', 'Restaurants']               0   \n",
       "3  ['Fast Food', 'Mexican', 'Tex-Mex', 'Restauran...               0   \n",
       "4  ['Bars', 'Restaurants', 'American (Traditional...               0   \n",
       "\n",
       "   Tapas/Small Plates  Fondue  Buffets  Gluten-Free    ...      Barre Classes  \\\n",
       "0                   0       0        0            0    ...                  0   \n",
       "1                   0       0        0            0    ...                  0   \n",
       "2                   0       0        0            0    ...                  0   \n",
       "3                   0       0        0            0    ...                  0   \n",
       "4                   0       0        0            0    ...                  0   \n",
       "\n",
       "   Local Flavor  Meat Shops  Japanese  Books, Mags, Music & Video  Arcades  \\\n",
       "0             0           0         0                           0        0   \n",
       "1             0           0         0                           0        0   \n",
       "2             0           0         0                           0        0   \n",
       "3             0           0         0                           0        0   \n",
       "4             0           0         0                           0        0   \n",
       "\n",
       "   Specialty Food  Spanish  Cabaret  Soul Food  \n",
       "0               0        0        0          0  \n",
       "1               0        0        0          0  \n",
       "2               0        0        0          0  \n",
       "3               0        0        0          0  \n",
       "4               0        0        0          0  \n",
       "\n",
       "[5 rows x 215 columns]"
      ]
     },
     "execution_count": 14,
     "metadata": {},
     "output_type": "execute_result"
    }
   ],
   "source": [
    "business_cat.head()"
   ]
  },
  {
   "cell_type": "code",
   "execution_count": 15,
   "metadata": {
    "collapsed": false
   },
   "outputs": [],
   "source": [
    "#another approach but so slow\n",
    "#def cate_count(row):\n",
    "#    for item in eval(row['categories']):\n",
    "#        row[item] = 1\n",
    "#    return row\n",
    "#business_cat = business_cat.apply(cate_count, axis=1).fillna(0)\n",
    "#business_cat = business_cat.apply(cate_count, axis=1).fillna(0)"
   ]
  },
  {
   "cell_type": "code",
   "execution_count": 16,
   "metadata": {
    "collapsed": true
   },
   "outputs": [],
   "source": [
    "business_merge = business_cat.merge(business_long, how='inner', on='business_id')"
   ]
  },
  {
   "cell_type": "code",
   "execution_count": 17,
   "metadata": {
    "collapsed": false
   },
   "outputs": [
    {
     "data": {
      "text/html": [
       "<div>\n",
       "<table border=\"1\" class=\"dataframe\">\n",
       "  <thead>\n",
       "    <tr style=\"text-align: right;\">\n",
       "      <th></th>\n",
       "      <th>business_id</th>\n",
       "      <th>city</th>\n",
       "      <th>review_count</th>\n",
       "      <th>stars</th>\n",
       "      <th>categories</th>\n",
       "      <th>Street Vendors</th>\n",
       "      <th>Tapas/Small Plates</th>\n",
       "      <th>Fondue</th>\n",
       "      <th>Buffets</th>\n",
       "      <th>Gluten-Free</th>\n",
       "      <th>...</th>\n",
       "      <th>saturday_open</th>\n",
       "      <th>sunday_close</th>\n",
       "      <th>sunday_open</th>\n",
       "      <th>thursday_close</th>\n",
       "      <th>thursday_open</th>\n",
       "      <th>tuesday_close</th>\n",
       "      <th>tuesday_open</th>\n",
       "      <th>wednesday_close</th>\n",
       "      <th>wednesday_open</th>\n",
       "      <th>open</th>\n",
       "    </tr>\n",
       "  </thead>\n",
       "  <tbody>\n",
       "    <tr>\n",
       "      <th>0</th>\n",
       "      <td>EmzaQR5hQlF0WIl24NxAZA</td>\n",
       "      <td>Phoenix</td>\n",
       "      <td>25</td>\n",
       "      <td>2.5</td>\n",
       "      <td>['American (New)', 'Nightlife', 'Dance Clubs',...</td>\n",
       "      <td>0</td>\n",
       "      <td>0</td>\n",
       "      <td>0</td>\n",
       "      <td>0</td>\n",
       "      <td>0</td>\n",
       "      <td>...</td>\n",
       "      <td>1</td>\n",
       "      <td>1</td>\n",
       "      <td>1</td>\n",
       "      <td>1</td>\n",
       "      <td>1</td>\n",
       "      <td>0</td>\n",
       "      <td>0</td>\n",
       "      <td>0</td>\n",
       "      <td>0</td>\n",
       "      <td>1</td>\n",
       "    </tr>\n",
       "  </tbody>\n",
       "</table>\n",
       "<p>1 rows × 293 columns</p>\n",
       "</div>"
      ],
      "text/plain": [
       "              business_id     city  review_count  stars  \\\n",
       "0  EmzaQR5hQlF0WIl24NxAZA  Phoenix            25    2.5   \n",
       "\n",
       "                                          categories  Street Vendors  \\\n",
       "0  ['American (New)', 'Nightlife', 'Dance Clubs',...               0   \n",
       "\n",
       "   Tapas/Small Plates  Fondue  Buffets  Gluten-Free  ...   saturday_open  \\\n",
       "0                   0       0        0            0  ...               1   \n",
       "\n",
       "   sunday_close  sunday_open  thursday_close  thursday_open  tuesday_close  \\\n",
       "0             1            1               1              1              0   \n",
       "\n",
       "   tuesday_open  wednesday_close  wednesday_open  open  \n",
       "0             0                0               0     1  \n",
       "\n",
       "[1 rows x 293 columns]"
      ]
     },
     "execution_count": 17,
     "metadata": {},
     "output_type": "execute_result"
    }
   ],
   "source": [
    "business_merge.head(1)"
   ]
  },
  {
   "cell_type": "code",
   "execution_count": 18,
   "metadata": {
    "collapsed": false
   },
   "outputs": [
    {
     "name": "stdout",
     "output_type": "stream",
     "text": [
      "Fitting 5 folds for each of 8 candidates, totalling 40 fits\n",
      "{'n_neighbors': 4, 'weights': 'uniform'}\n"
     ]
    },
    {
     "name": "stderr",
     "output_type": "stream",
     "text": [
      "[Parallel(n_jobs=1)]: Done  40 out of  40 | elapsed:   33.9s finished\n"
     ]
    }
   ],
   "source": [
    "y = business_merge['city']\n",
    "X = business_merge.iloc[:, 5:]\n",
    "\n",
    "params = {\n",
    "    'n_neighbors':range(1,5),\n",
    "    'weights':['uniform','distance']\n",
    "}\n",
    "\n",
    "knn = KNeighborsClassifier()\n",
    "\n",
    "knn_gs = GridSearchCV(knn, params, cv=5, verbose=1)\n",
    "knn_gs.fit(X, y)\n",
    "\n",
    "print knn_gs.best_params_\n",
    "best_knn = knn_gs.best_estimator_"
   ]
  },
  {
   "cell_type": "code",
   "execution_count": 20,
   "metadata": {
    "collapsed": false
   },
   "outputs": [],
   "source": [
    "#X.describe().T"
   ]
  },
  {
   "cell_type": "code",
   "execution_count": 21,
   "metadata": {
    "collapsed": false
   },
   "outputs": [
    {
     "name": "stdout",
     "output_type": "stream",
     "text": [
      "KNN:\n",
      "[0.6419019316493314, 0.66419019316493311, 0.6607142857142857, 0.6020864381520119, 0.64872944693572498]\n",
      "0.643524459123\n",
      "Logistic Regression:\n",
      "[0.63893016344725106, 0.65378900445765231, 0.65625, 0.65275707898658719, 0.61285500747384158]\n",
      "0.642916250873\n"
     ]
    }
   ],
   "source": [
    "cv_folds = StratifiedKFold(y, n_folds=5)\n",
    "\n",
    "logreg = LogisticRegression()\n",
    "\n",
    "lr_scores = []\n",
    "knn_scores = []\n",
    "\n",
    "for i, (train, test) in enumerate(cv_folds):\n",
    "    X_train, y_train = X.iloc[train, :], y[train]\n",
    "    X_test, y_test = X.iloc[test, :], y[test]\n",
    "    \n",
    "    best_knn.fit(X_train, y_train)\n",
    "    knn_scores.append(best_knn.score(X_test, y_test))\n",
    "    \n",
    "    logreg.fit(X_train, y_train)\n",
    "    lr_scores.append(logreg.score(X_test, y_test))\n",
    "    \n",
    "print 'KNN:'\n",
    "print knn_scores\n",
    "print np.mean(knn_scores)\n",
    "\n",
    "print 'Logistic Regression:'\n",
    "print lr_scores\n",
    "print np.mean(lr_scores)"
   ]
  },
  {
   "cell_type": "code",
   "execution_count": 22,
   "metadata": {
    "collapsed": false
   },
   "outputs": [
    {
     "name": "stdout",
     "output_type": "stream",
     "text": [
      "Logreg coef(s): [[ 0.          0.41558724  0.19859472 ..., -0.51537905 -0.51537905\n",
      "   0.46767908]\n",
      " [ 0.         -0.35627436 -0.18963714 ...,  0.35025272  0.35025272\n",
      "  -0.61888058]\n",
      " [ 0.         -0.04021457 -0.00278464 ..., -0.02734326 -0.02734326\n",
      "  -1.52230755]\n",
      " [ 0.         -0.08597494 -0.00201849 ...,  0.16971725  0.16971725\n",
      "  -1.19328279]]\n"
     ]
    }
   ],
   "source": [
    "print 'Logreg coef(s):', logreg.coef_"
   ]
  },
  {
   "cell_type": "code",
   "execution_count": 23,
   "metadata": {
    "collapsed": false
   },
   "outputs": [],
   "source": [
    "coef = pd.DataFrame(logreg.coef_, columns= X.columns)"
   ]
  },
  {
   "cell_type": "code",
   "execution_count": 24,
   "metadata": {
    "collapsed": false
   },
   "outputs": [
    {
     "data": {
      "text/html": [
       "<div>\n",
       "<table border=\"1\" class=\"dataframe\">\n",
       "  <thead>\n",
       "    <tr style=\"text-align: right;\">\n",
       "      <th></th>\n",
       "      <th>Street Vendors</th>\n",
       "      <th>Tapas/Small Plates</th>\n",
       "      <th>Fondue</th>\n",
       "      <th>Buffets</th>\n",
       "      <th>Gluten-Free</th>\n",
       "      <th>Arts &amp; Entertainment</th>\n",
       "      <th>Jewelry</th>\n",
       "      <th>Wholesale Stores</th>\n",
       "      <th>Makeup Artists</th>\n",
       "      <th>Sandwiches</th>\n",
       "      <th>...</th>\n",
       "      <th>saturday_open</th>\n",
       "      <th>sunday_close</th>\n",
       "      <th>sunday_open</th>\n",
       "      <th>thursday_close</th>\n",
       "      <th>thursday_open</th>\n",
       "      <th>tuesday_close</th>\n",
       "      <th>tuesday_open</th>\n",
       "      <th>wednesday_close</th>\n",
       "      <th>wednesday_open</th>\n",
       "      <th>open</th>\n",
       "    </tr>\n",
       "  </thead>\n",
       "  <tbody>\n",
       "    <tr>\n",
       "      <th>0</th>\n",
       "      <td>0.0</td>\n",
       "      <td>0.415587</td>\n",
       "      <td>0.198595</td>\n",
       "      <td>-0.029313</td>\n",
       "      <td>-0.078694</td>\n",
       "      <td>-0.181711</td>\n",
       "      <td>0.0</td>\n",
       "      <td>0.0</td>\n",
       "      <td>0.471762</td>\n",
       "      <td>0.237142</td>\n",
       "      <td>...</td>\n",
       "      <td>0.368682</td>\n",
       "      <td>0.264171</td>\n",
       "      <td>0.264171</td>\n",
       "      <td>-0.524892</td>\n",
       "      <td>-0.524892</td>\n",
       "      <td>-0.175140</td>\n",
       "      <td>-0.175140</td>\n",
       "      <td>-0.515379</td>\n",
       "      <td>-0.515379</td>\n",
       "      <td>0.467679</td>\n",
       "    </tr>\n",
       "    <tr>\n",
       "      <th>1</th>\n",
       "      <td>0.0</td>\n",
       "      <td>-0.356274</td>\n",
       "      <td>-0.189637</td>\n",
       "      <td>0.025666</td>\n",
       "      <td>0.198257</td>\n",
       "      <td>0.291398</td>\n",
       "      <td>0.0</td>\n",
       "      <td>0.0</td>\n",
       "      <td>-0.470798</td>\n",
       "      <td>-0.086329</td>\n",
       "      <td>...</td>\n",
       "      <td>-0.380108</td>\n",
       "      <td>-0.312549</td>\n",
       "      <td>-0.312549</td>\n",
       "      <td>0.763091</td>\n",
       "      <td>0.763091</td>\n",
       "      <td>0.217568</td>\n",
       "      <td>0.217568</td>\n",
       "      <td>0.350253</td>\n",
       "      <td>0.350253</td>\n",
       "      <td>-0.618881</td>\n",
       "    </tr>\n",
       "    <tr>\n",
       "      <th>2</th>\n",
       "      <td>0.0</td>\n",
       "      <td>-0.040215</td>\n",
       "      <td>-0.002785</td>\n",
       "      <td>-0.025967</td>\n",
       "      <td>-0.045137</td>\n",
       "      <td>-0.646712</td>\n",
       "      <td>0.0</td>\n",
       "      <td>0.0</td>\n",
       "      <td>-0.030592</td>\n",
       "      <td>-0.329526</td>\n",
       "      <td>...</td>\n",
       "      <td>0.114372</td>\n",
       "      <td>0.134922</td>\n",
       "      <td>0.134922</td>\n",
       "      <td>-0.149462</td>\n",
       "      <td>-0.149462</td>\n",
       "      <td>0.005771</td>\n",
       "      <td>0.005771</td>\n",
       "      <td>-0.027343</td>\n",
       "      <td>-0.027343</td>\n",
       "      <td>-1.522308</td>\n",
       "    </tr>\n",
       "    <tr>\n",
       "      <th>3</th>\n",
       "      <td>0.0</td>\n",
       "      <td>-0.085975</td>\n",
       "      <td>-0.002018</td>\n",
       "      <td>-0.035093</td>\n",
       "      <td>-0.128370</td>\n",
       "      <td>-0.517610</td>\n",
       "      <td>0.0</td>\n",
       "      <td>0.0</td>\n",
       "      <td>-0.022920</td>\n",
       "      <td>-0.699765</td>\n",
       "      <td>...</td>\n",
       "      <td>-0.114470</td>\n",
       "      <td>0.246856</td>\n",
       "      <td>0.246856</td>\n",
       "      <td>-0.456661</td>\n",
       "      <td>-0.456661</td>\n",
       "      <td>-0.045051</td>\n",
       "      <td>-0.045051</td>\n",
       "      <td>0.169717</td>\n",
       "      <td>0.169717</td>\n",
       "      <td>-1.193283</td>\n",
       "    </tr>\n",
       "  </tbody>\n",
       "</table>\n",
       "<p>4 rows × 288 columns</p>\n",
       "</div>"
      ],
      "text/plain": [
       "   Street Vendors  Tapas/Small Plates    Fondue   Buffets  Gluten-Free  \\\n",
       "0             0.0            0.415587  0.198595 -0.029313    -0.078694   \n",
       "1             0.0           -0.356274 -0.189637  0.025666     0.198257   \n",
       "2             0.0           -0.040215 -0.002785 -0.025967    -0.045137   \n",
       "3             0.0           -0.085975 -0.002018 -0.035093    -0.128370   \n",
       "\n",
       "   Arts & Entertainment  Jewelry  Wholesale Stores  Makeup Artists  \\\n",
       "0             -0.181711      0.0               0.0        0.471762   \n",
       "1              0.291398      0.0               0.0       -0.470798   \n",
       "2             -0.646712      0.0               0.0       -0.030592   \n",
       "3             -0.517610      0.0               0.0       -0.022920   \n",
       "\n",
       "   Sandwiches    ...     saturday_open  sunday_close  sunday_open  \\\n",
       "0    0.237142    ...          0.368682      0.264171     0.264171   \n",
       "1   -0.086329    ...         -0.380108     -0.312549    -0.312549   \n",
       "2   -0.329526    ...          0.114372      0.134922     0.134922   \n",
       "3   -0.699765    ...         -0.114470      0.246856     0.246856   \n",
       "\n",
       "   thursday_close  thursday_open  tuesday_close  tuesday_open  \\\n",
       "0       -0.524892      -0.524892      -0.175140     -0.175140   \n",
       "1        0.763091       0.763091       0.217568      0.217568   \n",
       "2       -0.149462      -0.149462       0.005771      0.005771   \n",
       "3       -0.456661      -0.456661      -0.045051     -0.045051   \n",
       "\n",
       "   wednesday_close  wednesday_open      open  \n",
       "0        -0.515379       -0.515379  0.467679  \n",
       "1         0.350253        0.350253 -0.618881  \n",
       "2        -0.027343       -0.027343 -1.522308  \n",
       "3         0.169717        0.169717 -1.193283  \n",
       "\n",
       "[4 rows x 288 columns]"
      ]
     },
     "execution_count": 24,
     "metadata": {},
     "output_type": "execute_result"
    }
   ],
   "source": [
    "coef.head()"
   ]
  },
  {
   "cell_type": "code",
   "execution_count": 25,
   "metadata": {
    "collapsed": false
   },
   "outputs": [],
   "source": [
    "best_coef = []\n",
    "for column in coef.columns:\n",
    "    best_coef.append(max(coef[column]))"
   ]
  },
  {
   "cell_type": "code",
   "execution_count": 26,
   "metadata": {
    "collapsed": false
   },
   "outputs": [],
   "source": [
    "best_c = pd.DataFrame(best_coef, index=X.columns)"
   ]
  },
  {
   "cell_type": "code",
   "execution_count": 27,
   "metadata": {
    "collapsed": false
   },
   "outputs": [],
   "source": [
    "best_c.rename(columns={0: 'value'}, inplace=True)"
   ]
  },
  {
   "cell_type": "code",
   "execution_count": 55,
   "metadata": {
    "collapsed": false
   },
   "outputs": [
    {
     "data": {
      "text/html": [
       "<div>\n",
       "<table border=\"1\" class=\"dataframe\">\n",
       "  <thead>\n",
       "    <tr style=\"text-align: right;\">\n",
       "      <th></th>\n",
       "      <th>value</th>\n",
       "    </tr>\n",
       "  </thead>\n",
       "  <tbody>\n",
       "    <tr>\n",
       "      <th>Canadian (New)</th>\n",
       "      <td>2.255361</td>\n",
       "    </tr>\n",
       "    <tr>\n",
       "      <th>Juice Bars &amp; Smoothies</th>\n",
       "      <td>1.610119</td>\n",
       "    </tr>\n",
       "    <tr>\n",
       "      <th>Swimming Pools</th>\n",
       "      <td>1.487112</td>\n",
       "    </tr>\n",
       "    <tr>\n",
       "      <th>parking_garage</th>\n",
       "      <td>1.456021</td>\n",
       "    </tr>\n",
       "    <tr>\n",
       "      <th>Fish &amp; Chips</th>\n",
       "      <td>1.436826</td>\n",
       "    </tr>\n",
       "  </tbody>\n",
       "</table>\n",
       "</div>"
      ],
      "text/plain": [
       "                           value\n",
       "Canadian (New)          2.255361\n",
       "Juice Bars & Smoothies  1.610119\n",
       "Swimming Pools          1.487112\n",
       "parking_garage          1.456021\n",
       "Fish & Chips            1.436826"
      ]
     },
     "execution_count": 55,
     "metadata": {},
     "output_type": "execute_result"
    }
   ],
   "source": [
    "best_c.sort_values(by='value', ascending=False, inplace=True)\n",
    "best_c.head()"
   ]
  },
  {
   "cell_type": "code",
   "execution_count": 63,
   "metadata": {
    "collapsed": false
   },
   "outputs": [
    {
     "data": {
      "text/plain": [
       "<matplotlib.axes._subplots.AxesSubplot at 0x1238e0910>"
      ]
     },
     "execution_count": 63,
     "metadata": {},
     "output_type": "execute_result"
    },
    {
     "data": {
      "image/png": "[encoded data removed]",
      "text/plain": [
       "<matplotlib.figure.Figure at 0x118679b50>"
      ]
     },
     "metadata": {},
     "output_type": "display_data"
    }
   ],
   "source": [
    "best_c[:15].plot(kind='bar')"
   ]
  },
  {
   "cell_type": "code",
   "execution_count": null,
   "metadata": {
    "collapsed": false
   },
   "outputs": [],
   "source": []
  },
  {
   "cell_type": "markdown",
   "metadata": {},
   "source": [
    "<img src=\"http://imgur.com/l5NasQj.png\" style=\"float: left; margin: 25px 15px 0px 0px; height: 25px\">\n",
    "\n",
    "## 2. Different categories of ratings\n",
    "\n",
    "---\n",
    "\n",
    "Yelp is finally ready to admit that their rating system sucks. No one cares about the ratings, they just use the site to find out what's nearby. The ratings are simply too unreliable for people. \n",
    "\n",
    "Yelp hypothesizes that this is, in fact, because different people tend to give their ratings based on different things. They believe that perhaps some people always base their ratings on quality of food, others on service, and perhaps other categories as well. \n",
    "\n",
    "1. Do some users tend to talk about service more than others in reviews/tips? Divide up the tips/reviews into more \"service-focused\" ones and those less concerned with service.\n",
    "2. Create two new ratings for businesses: ratings from just the service-focused reviews and ratings from the non-service reviews.\n",
    "3. Construct a regression model for each of the two ratings. They should use the same predictor variables (of your choice). \n",
    "4. Validate the performance of the models.\n",
    "5. Do the models coefficients differ at all? What does this tell you about the hypothesis that there are in fact two different kinds of ratings?"
   ]
  },
  {
   "cell_type": "code",
   "execution_count": 149,
   "metadata": {
    "collapsed": false
   },
   "outputs": [],
   "source": [
    "review = pd.read_csv(file_dir+'reviews_small_nlp_parsed.csv')\n",
    "#tips = pd.read_csv(file_dir+'tips_small_nlp_parsed.csv')"
   ]
  },
  {
   "cell_type": "code",
   "execution_count": 150,
   "metadata": {
    "collapsed": false
   },
   "outputs": [
    {
     "data": {
      "text/html": [
       "<div>\n",
       "<table border=\"1\" class=\"dataframe\">\n",
       "  <thead>\n",
       "    <tr style=\"text-align: right;\">\n",
       "      <th></th>\n",
       "      <th>user_id</th>\n",
       "      <th>review_id</th>\n",
       "      <th>votes.cool</th>\n",
       "      <th>business_id</th>\n",
       "      <th>votes.funny</th>\n",
       "      <th>stars</th>\n",
       "      <th>date</th>\n",
       "      <th>votes.useful</th>\n",
       "      <th>10 minutes</th>\n",
       "      <th>15 minutes</th>\n",
       "      <th>...</th>\n",
       "      <th>service great</th>\n",
       "      <th>staff friendly</th>\n",
       "      <th>super friendly</th>\n",
       "      <th>sweet potato</th>\n",
       "      <th>tasted like</th>\n",
       "      <th>time vegas</th>\n",
       "      <th>try place</th>\n",
       "      <th>ve seen</th>\n",
       "      <th>ve tried</th>\n",
       "      <th>wait staff</th>\n",
       "    </tr>\n",
       "  </thead>\n",
       "  <tbody>\n",
       "    <tr>\n",
       "      <th>0</th>\n",
       "      <td>o_LCYay4uo5N4eq3U5pbrQ</td>\n",
       "      <td>biEOCicjWlibF26pNLvhcw</td>\n",
       "      <td>0</td>\n",
       "      <td>EmzaQR5hQlF0WIl24NxAZA</td>\n",
       "      <td>0</td>\n",
       "      <td>3</td>\n",
       "      <td>2007-09-14</td>\n",
       "      <td>1</td>\n",
       "      <td>0</td>\n",
       "      <td>0</td>\n",
       "      <td>...</td>\n",
       "      <td>0</td>\n",
       "      <td>0</td>\n",
       "      <td>0</td>\n",
       "      <td>0</td>\n",
       "      <td>0</td>\n",
       "      <td>0</td>\n",
       "      <td>0</td>\n",
       "      <td>0</td>\n",
       "      <td>0</td>\n",
       "      <td>0</td>\n",
       "    </tr>\n",
       "  </tbody>\n",
       "</table>\n",
       "<p>1 rows × 108 columns</p>\n",
       "</div>"
      ],
      "text/plain": [
       "                  user_id               review_id  votes.cool  \\\n",
       "0  o_LCYay4uo5N4eq3U5pbrQ  biEOCicjWlibF26pNLvhcw           0   \n",
       "\n",
       "              business_id  votes.funny  stars        date  votes.useful  \\\n",
       "0  EmzaQR5hQlF0WIl24NxAZA            0      3  2007-09-14             1   \n",
       "\n",
       "   10 minutes  15 minutes     ...      service great  staff friendly  \\\n",
       "0           0           0     ...                  0               0   \n",
       "\n",
       "   super friendly  sweet potato  tasted like  time vegas  try place  ve seen  \\\n",
       "0               0             0            0           0          0        0   \n",
       "\n",
       "   ve tried  wait staff  \n",
       "0         0           0  \n",
       "\n",
       "[1 rows x 108 columns]"
      ]
     },
     "execution_count": 150,
     "metadata": {},
     "output_type": "execute_result"
    }
   ],
   "source": [
    "review.head(1)"
   ]
  },
  {
   "cell_type": "code",
   "execution_count": 152,
   "metadata": {
    "collapsed": false
   },
   "outputs": [],
   "source": [
    "#food_review: focus on food quality rather than service\n",
    "#service_review: focus on service rather than food\n",
    "food_review = pd.DataFrame()\n",
    "food_column = []\n",
    "service_review = pd.DataFrame()\n",
    "service_column = []\n",
    "for column in review.columns:\n",
    "    if 'service' in column:\n",
    "        service_column.append(column)\n",
    "    elif 'food ' in column:\n",
    "        food_column.append(column)\n",
    "    else:\n",
    "        pass\n",
    "food_review = review[['user_id', 'review_id', 'business_id', 'stars'] + food_column]\n",
    "service_review = review[['user_id', 'review_id', 'business_id', 'stars'] + food_column]"
   ]
  },
  {
   "cell_type": "code",
   "execution_count": 153,
   "metadata": {
    "collapsed": true
   },
   "outputs": [],
   "source": [
    "food_review_sample = food_review.sample(n=int(len(food_review)*0.05))\n",
    "service_review_sample = service_review.sample(n=int(len(service_review)*0.05))"
   ]
  },
  {
   "cell_type": "code",
   "execution_count": 259,
   "metadata": {
    "collapsed": false
   },
   "outputs": [
    {
     "ename": "NameError",
     "evalue": "name 'corr' is not defined",
     "output_type": "error",
     "traceback": [
      "\u001b[0;31m---------------------------------------------------------------------------\u001b[0m",
      "\u001b[0;31mNameError\u001b[0m                                 Traceback (most recent call last)",
      "\u001b[0;32m<ipython-input-259-7c4790bbbe37>\u001b[0m in \u001b[0;36m<module>\u001b[0;34m()\u001b[0m\n\u001b[0;32m----> 1\u001b[0;31m \u001b[0msns\u001b[0m\u001b[0;34m.\u001b[0m\u001b[0mheatmap\u001b[0m\u001b[0;34m(\u001b[0m\u001b[0mcorr\u001b[0m\u001b[0;34m(\u001b[0m\u001b[0mfood_review_sample\u001b[0m\u001b[0;34m)\u001b[0m\u001b[0;34m)\u001b[0m\u001b[0;34m\u001b[0m\u001b[0m\n\u001b[0m",
      "\u001b[0;31mNameError\u001b[0m: name 'corr' is not defined"
     ]
    }
   ],
   "source": [
    "sns.heatmap(corr(food_review_sample))"
   ]
  },
  {
   "cell_type": "code",
   "execution_count": 155,
   "metadata": {
    "collapsed": false
   },
   "outputs": [
    {
     "data": {
      "text/html": [
       "<div>\n",
       "<table border=\"1\" class=\"dataframe\">\n",
       "  <thead>\n",
       "    <tr style=\"text-align: right;\">\n",
       "      <th></th>\n",
       "      <th>user_id</th>\n",
       "      <th>review_id</th>\n",
       "      <th>business_id</th>\n",
       "      <th>stars</th>\n",
       "      <th>food amazing</th>\n",
       "      <th>food came</th>\n",
       "      <th>food delicious</th>\n",
       "      <th>food good</th>\n",
       "      <th>food great</th>\n",
       "      <th>food just</th>\n",
       "    </tr>\n",
       "  </thead>\n",
       "  <tbody>\n",
       "    <tr>\n",
       "      <th>286660</th>\n",
       "      <td>mRwm1W5IM2WjiiJoOlnqlw</td>\n",
       "      <td>xmK_c_OG811F4SxO3VteTg</td>\n",
       "      <td>6i8vY-6gCQd5v6lZ8yne5Q</td>\n",
       "      <td>1</td>\n",
       "      <td>0</td>\n",
       "      <td>0</td>\n",
       "      <td>0</td>\n",
       "      <td>0</td>\n",
       "      <td>0</td>\n",
       "      <td>0</td>\n",
       "    </tr>\n",
       "    <tr>\n",
       "      <th>77725</th>\n",
       "      <td>ZkXJgyfIst35q67l3tZvvw</td>\n",
       "      <td>UkvlwIrCtGSopeYWF2sBdw</td>\n",
       "      <td>Z1KDov5DRTG-rYF_6TyO1A</td>\n",
       "      <td>1</td>\n",
       "      <td>0</td>\n",
       "      <td>0</td>\n",
       "      <td>0</td>\n",
       "      <td>0</td>\n",
       "      <td>0</td>\n",
       "      <td>0</td>\n",
       "    </tr>\n",
       "    <tr>\n",
       "      <th>269369</th>\n",
       "      <td>r9eegeUzH6wa6eknBlRiVQ</td>\n",
       "      <td>6pKFxNHT3lMKEbM5PocW8w</td>\n",
       "      <td>OoeTGTkxvSZqqicZ8ljJjw</td>\n",
       "      <td>3</td>\n",
       "      <td>0</td>\n",
       "      <td>0</td>\n",
       "      <td>0</td>\n",
       "      <td>0</td>\n",
       "      <td>0</td>\n",
       "      <td>0</td>\n",
       "    </tr>\n",
       "    <tr>\n",
       "      <th>243638</th>\n",
       "      <td>lwgMg6mjNR3LJJvbMo_29A</td>\n",
       "      <td>mtdIxphHUlLmFqqOfWReKw</td>\n",
       "      <td>BQjGE1Z3nk253XzIZqt8Gg</td>\n",
       "      <td>4</td>\n",
       "      <td>0</td>\n",
       "      <td>0</td>\n",
       "      <td>0</td>\n",
       "      <td>0</td>\n",
       "      <td>0</td>\n",
       "      <td>0</td>\n",
       "    </tr>\n",
       "    <tr>\n",
       "      <th>217303</th>\n",
       "      <td>8-98T_0Z1l9hBYXHfaHFPQ</td>\n",
       "      <td>VD7xBmbgdkcHd-IVdOsYdQ</td>\n",
       "      <td>MYj5f-QxtGeKlhVVx1RD4g</td>\n",
       "      <td>4</td>\n",
       "      <td>0</td>\n",
       "      <td>0</td>\n",
       "      <td>0</td>\n",
       "      <td>0</td>\n",
       "      <td>0</td>\n",
       "      <td>0</td>\n",
       "    </tr>\n",
       "  </tbody>\n",
       "</table>\n",
       "</div>"
      ],
      "text/plain": [
       "                       user_id               review_id  \\\n",
       "286660  mRwm1W5IM2WjiiJoOlnqlw  xmK_c_OG811F4SxO3VteTg   \n",
       "77725   ZkXJgyfIst35q67l3tZvvw  UkvlwIrCtGSopeYWF2sBdw   \n",
       "269369  r9eegeUzH6wa6eknBlRiVQ  6pKFxNHT3lMKEbM5PocW8w   \n",
       "243638  lwgMg6mjNR3LJJvbMo_29A  mtdIxphHUlLmFqqOfWReKw   \n",
       "217303  8-98T_0Z1l9hBYXHfaHFPQ  VD7xBmbgdkcHd-IVdOsYdQ   \n",
       "\n",
       "                   business_id  stars  food amazing  food came  \\\n",
       "286660  6i8vY-6gCQd5v6lZ8yne5Q      1             0          0   \n",
       "77725   Z1KDov5DRTG-rYF_6TyO1A      1             0          0   \n",
       "269369  OoeTGTkxvSZqqicZ8ljJjw      3             0          0   \n",
       "243638  BQjGE1Z3nk253XzIZqt8Gg      4             0          0   \n",
       "217303  MYj5f-QxtGeKlhVVx1RD4g      4             0          0   \n",
       "\n",
       "        food delicious  food good  food great  food just  \n",
       "286660               0          0           0          0  \n",
       "77725                0          0           0          0  \n",
       "269369               0          0           0          0  \n",
       "243638               0          0           0          0  \n",
       "217303               0          0           0          0  "
      ]
     },
     "execution_count": 155,
     "metadata": {},
     "output_type": "execute_result"
    }
   ],
   "source": [
    "food_review_sample.head()"
   ]
  },
  {
   "cell_type": "code",
   "execution_count": 156,
   "metadata": {
    "collapsed": false
   },
   "outputs": [
    {
     "data": {
      "text/html": [
       "<div>\n",
       "<table border=\"1\" class=\"dataframe\">\n",
       "  <thead>\n",
       "    <tr style=\"text-align: right;\">\n",
       "      <th></th>\n",
       "      <th>user_id</th>\n",
       "      <th>review_id</th>\n",
       "      <th>business_id</th>\n",
       "      <th>stars</th>\n",
       "      <th>food amazing</th>\n",
       "      <th>food came</th>\n",
       "      <th>food delicious</th>\n",
       "      <th>food good</th>\n",
       "      <th>food great</th>\n",
       "      <th>food just</th>\n",
       "    </tr>\n",
       "  </thead>\n",
       "  <tbody>\n",
       "    <tr>\n",
       "      <th>198245</th>\n",
       "      <td>VaXBcZJ2qohBfplza6frWg</td>\n",
       "      <td>mFvxmVXU8KKWPN-jTqFvSg</td>\n",
       "      <td>6q-N4KtGR4YJCR4Ar3nIEg</td>\n",
       "      <td>4</td>\n",
       "      <td>0</td>\n",
       "      <td>0</td>\n",
       "      <td>0</td>\n",
       "      <td>0</td>\n",
       "      <td>0</td>\n",
       "      <td>0</td>\n",
       "    </tr>\n",
       "    <tr>\n",
       "      <th>224951</th>\n",
       "      <td>-RdmKV_bACNyJs_ccuGSmw</td>\n",
       "      <td>2-CXjF-8fCkhw97Nr2SA_g</td>\n",
       "      <td>pAHUC05ceak48e745i6G4g</td>\n",
       "      <td>5</td>\n",
       "      <td>0</td>\n",
       "      <td>0</td>\n",
       "      <td>0</td>\n",
       "      <td>0</td>\n",
       "      <td>0</td>\n",
       "      <td>0</td>\n",
       "    </tr>\n",
       "    <tr>\n",
       "      <th>168319</th>\n",
       "      <td>FbdB9KXyuvT8rC_zmqRSuQ</td>\n",
       "      <td>bgdBWESavdY3BakRU40E9w</td>\n",
       "      <td>Ph8Gl5VufKMv0j5p_JLEig</td>\n",
       "      <td>4</td>\n",
       "      <td>0</td>\n",
       "      <td>0</td>\n",
       "      <td>0</td>\n",
       "      <td>0</td>\n",
       "      <td>0</td>\n",
       "      <td>0</td>\n",
       "    </tr>\n",
       "    <tr>\n",
       "      <th>16634</th>\n",
       "      <td>Clzbfz4jAAhCyf9MNJqzAg</td>\n",
       "      <td>KDQLDlqb8IwByaOhLSuDaQ</td>\n",
       "      <td>eoDEx1GGQA0CBDhy2ql_Kw</td>\n",
       "      <td>5</td>\n",
       "      <td>0</td>\n",
       "      <td>0</td>\n",
       "      <td>0</td>\n",
       "      <td>0</td>\n",
       "      <td>0</td>\n",
       "      <td>0</td>\n",
       "    </tr>\n",
       "    <tr>\n",
       "      <th>255701</th>\n",
       "      <td>qdr866nRfdKzKjLvzUeiqg</td>\n",
       "      <td>RROiLeYrQKvIW7QnX3y83w</td>\n",
       "      <td>2nGQW91SE-2o5dX32kQ-tQ</td>\n",
       "      <td>5</td>\n",
       "      <td>0</td>\n",
       "      <td>0</td>\n",
       "      <td>0</td>\n",
       "      <td>0</td>\n",
       "      <td>0</td>\n",
       "      <td>0</td>\n",
       "    </tr>\n",
       "  </tbody>\n",
       "</table>\n",
       "</div>"
      ],
      "text/plain": [
       "                       user_id               review_id  \\\n",
       "198245  VaXBcZJ2qohBfplza6frWg  mFvxmVXU8KKWPN-jTqFvSg   \n",
       "224951  -RdmKV_bACNyJs_ccuGSmw  2-CXjF-8fCkhw97Nr2SA_g   \n",
       "168319  FbdB9KXyuvT8rC_zmqRSuQ  bgdBWESavdY3BakRU40E9w   \n",
       "16634   Clzbfz4jAAhCyf9MNJqzAg  KDQLDlqb8IwByaOhLSuDaQ   \n",
       "255701  qdr866nRfdKzKjLvzUeiqg  RROiLeYrQKvIW7QnX3y83w   \n",
       "\n",
       "                   business_id  stars  food amazing  food came  \\\n",
       "198245  6q-N4KtGR4YJCR4Ar3nIEg      4             0          0   \n",
       "224951  pAHUC05ceak48e745i6G4g      5             0          0   \n",
       "168319  Ph8Gl5VufKMv0j5p_JLEig      4             0          0   \n",
       "16634   eoDEx1GGQA0CBDhy2ql_Kw      5             0          0   \n",
       "255701  2nGQW91SE-2o5dX32kQ-tQ      5             0          0   \n",
       "\n",
       "        food delicious  food good  food great  food just  \n",
       "198245               0          0           0          0  \n",
       "224951               0          0           0          0  \n",
       "168319               0          0           0          0  \n",
       "16634                0          0           0          0  \n",
       "255701               0          0           0          0  "
      ]
     },
     "execution_count": 156,
     "metadata": {},
     "output_type": "execute_result"
    }
   ],
   "source": [
    "service_review_sample.head()"
   ]
  },
  {
   "cell_type": "code",
   "execution_count": 159,
   "metadata": {
    "collapsed": false
   },
   "outputs": [
    {
     "name": "stdout",
     "output_type": "stream",
     "text": [
      "Fitting 3 folds for each of 4 candidates, totalling 12 fits\n",
      "{'n_neighbors': 1, 'weights': 'uniform'}\n"
     ]
    },
    {
     "name": "stderr",
     "output_type": "stream",
     "text": [
      "[Parallel(n_jobs=1)]: Done  12 out of  12 | elapsed:   10.3s finished\n"
     ]
    }
   ],
   "source": [
    "#food\n",
    "y_freview = food_review_sample['stars'].values\n",
    "X_freview = food_review_sample.iloc[:, 4:].values\n",
    "\n",
    "params = {\n",
    "    'n_neighbors':range(1,3),\n",
    "    'weights':['uniform','distance']\n",
    "}\n",
    "\n",
    "knn = KNeighborsClassifier()\n",
    "\n",
    "knn_gs = GridSearchCV(knn, params, cv=3, verbose=1)\n",
    "knn_gs.fit(X_freview, y_freview)\n",
    "\n",
    "print knn_gs.best_params_\n",
    "best_knn = knn_gs.best_estimator_"
   ]
  },
  {
   "cell_type": "code",
   "execution_count": 160,
   "metadata": {
    "collapsed": false
   },
   "outputs": [
    {
     "name": "stdout",
     "output_type": "stream",
     "text": [
      "KNN:\n",
      "[0.10046511627906977, 0.10999441652707985, 0.11208341091044498]\n",
      "0.107514314572\n",
      "Logistic Regression:\n",
      "[0.37655813953488371, 0.37762888516657361, 0.37702476261403833]\n",
      "0.377070595772\n"
     ]
    }
   ],
   "source": [
    "#food\n",
    "cv_folds = StratifiedKFold(y_freview, n_folds=3)\n",
    "\n",
    "logreg = LogisticRegression()\n",
    "\n",
    "lr_scores = []\n",
    "knn_scores = []\n",
    "\n",
    "for i, (train, test) in enumerate(cv_folds):\n",
    "    X_train, y_train = X_freview[train, :], y_freview[train]\n",
    "    X_test, y_test = X_freview[test, :], y_freview[test]\n",
    "    \n",
    "    best_knn.fit(X_train, y_train)\n",
    "    knn_scores.append(best_knn.score(X_test, y_test))\n",
    "    \n",
    "    logreg.fit(X_train, y_train)\n",
    "    lr_scores.append(logreg.score(X_test, y_test))\n",
    "    \n",
    "print 'KNN:'\n",
    "print knn_scores\n",
    "print np.mean(knn_scores)\n",
    "\n",
    "print 'Logistic Regression:'\n",
    "print lr_scores\n",
    "print np.mean(lr_scores)"
   ]
  },
  {
   "cell_type": "code",
   "execution_count": 134,
   "metadata": {
    "collapsed": false
   },
   "outputs": [
    {
     "name": "stdout",
     "output_type": "stream",
     "text": [
      "Fitting 3 folds for each of 4 candidates, totalling 12 fits\n",
      "{'n_neighbors': 1, 'weights': 'uniform'}\n"
     ]
    },
    {
     "name": "stderr",
     "output_type": "stream",
     "text": [
      "[Parallel(n_jobs=1)]: Done  12 out of  12 | elapsed:   14.8s finished\n"
     ]
    }
   ],
   "source": [
    "#service\n",
    "y_sreview = service_review_sample['stars'].values\n",
    "X_sreview = service_review_sample.iloc[:, 4:].values\n",
    "\n",
    "params = {\n",
    "    'n_neighbors':range(1,3),\n",
    "    'weights':['uniform','distance']\n",
    "}\n",
    "\n",
    "knn = KNeighborsClassifier()\n",
    "\n",
    "knn_gs = GridSearchCV(knn, params, cv=3, verbose=1)\n",
    "knn_gs.fit(X_sreview, y_review)\n",
    "\n",
    "print knn_gs.best_params_\n",
    "best_knn = knn_gs.best_estimator_"
   ]
  },
  {
   "cell_type": "code",
   "execution_count": 135,
   "metadata": {
    "collapsed": false
   },
   "outputs": [
    {
     "name": "stdout",
     "output_type": "stream",
     "text": [
      "KNN:\n",
      "[0.29363602530703387, 0.16989207294380348, 0.35207596350772669]\n",
      "0.271868020586\n",
      "Logistic Regression:\n",
      "[0.37067361369557128, 0.37123185708969109, 0.37348724632284491]\n",
      "0.371797572369\n"
     ]
    }
   ],
   "source": [
    "#service\n",
    "cv_folds = StratifiedKFold(y_sreview, n_folds=3)\n",
    "\n",
    "logreg = LogisticRegression()\n",
    "\n",
    "lr_scores = []\n",
    "knn_scores = []\n",
    "\n",
    "for i, (train, test) in enumerate(cv_folds):\n",
    "    X_train, y_train = X_sreview[train, :], y_sreview[train]\n",
    "    X_test, y_test = X_sreview[test, :], y_sreview[test]\n",
    "    \n",
    "    best_knn.fit(X_train, y_train)\n",
    "    knn_scores.append(best_knn.score(X_test, y_test))\n",
    "    \n",
    "    logreg.fit(X_train, y_train)\n",
    "    lr_scores.append(logreg.score(X_test, y_test))\n",
    "    \n",
    "print 'KNN:'\n",
    "print knn_scores\n",
    "print np.mean(knn_scores)\n",
    "\n",
    "print 'Logistic Regression:'\n",
    "print lr_scores\n",
    "print np.mean(lr_scores)"
   ]
  },
  {
   "cell_type": "code",
   "execution_count": null,
   "metadata": {
    "collapsed": true
   },
   "outputs": [],
   "source": []
  },
  {
   "cell_type": "markdown",
   "metadata": {},
   "source": [
    "<img src=\"http://imgur.com/GCAf1UX.png\" style=\"float: left; margin: 25px 15px 0px 0px; height: 25px\">\n",
    "\n",
    "## 4. Find something interesting on your own\n",
    "\n",
    "---\n",
    "\n",
    "You want to impress your superiors at Yelp by doing some investigation into the data on your own. You want to do classification, but you're not sure on what.\n",
    "\n",
    "1. Create a hypothesis or hypotheses about the data based on whatever you are interested in, as long as it is predicting a category of some kind (classification).\n",
    "2. Explore the data visually (ideally related to this hypothesis).\n",
    "3. Build one or more classification models to predict your target variable. **Your modeling should include gridsearching to find optimal model parameters.**\n",
    "4. Evaluate the performance of your model. Explain why your model may have chosen those specific parameters during the gridsearch process.\n",
    "5. Write up what the model tells you. Does it validate or invalidate your hypothesis? Write this up as if for a non-technical audience."
   ]
  },
  {
   "cell_type": "code",
   "execution_count": 182,
   "metadata": {
    "collapsed": true
   },
   "outputs": [],
   "source": [
    "checkin = pd.read_csv(file_dir+'checkins_small_parsed.csv')"
   ]
  },
  {
   "cell_type": "code",
   "execution_count": 183,
   "metadata": {
    "collapsed": true
   },
   "outputs": [],
   "source": [
    "checkin['time'] = checkin['variable'].apply(lambda x: re.findall('[0-9]+\\-[0-9]', x)).str.get(0)"
   ]
  },
  {
   "cell_type": "code",
   "execution_count": 184,
   "metadata": {
    "collapsed": true
   },
   "outputs": [],
   "source": [
    "#checkin time\n",
    "checkin['time_of_day'] = checkin['time'].apply(lambda x: re.findall('^[0-9]+', x)).str.get(0)"
   ]
  },
  {
   "cell_type": "code",
   "execution_count": 185,
   "metadata": {
    "collapsed": true
   },
   "outputs": [],
   "source": [
    "#checkin day of week\n",
    "checkin['day_of_week'] = checkin['time'].apply(lambda x: re.findall('\\-[0-9]', x)).str.get(0)\n",
    "checkin['day_of_week'] = checkin['day_of_week'].apply(lambda x: re.sub('-', '', x))\n",
    "checkin['day_of_week'] = checkin['day_of_week'].replace('0', 'Sun').replace('1', 'Mon').replace('2', 'Tue').replace('3', 'Wed').replace('4', 'Thur').replace('5', 'Fri').replace('6', 'Sat')\n"
   ]
  },
  {
   "cell_type": "code",
   "execution_count": 186,
   "metadata": {
    "collapsed": true
   },
   "outputs": [],
   "source": [
    "checkin['time'] = checkin['day_of_week'] + '_' + checkin['time_of_day']"
   ]
  },
  {
   "cell_type": "code",
   "execution_count": 187,
   "metadata": {
    "collapsed": false
   },
   "outputs": [
    {
     "data": {
      "text/html": [
       "<div>\n",
       "<table border=\"1\" class=\"dataframe\">\n",
       "  <thead>\n",
       "    <tr style=\"text-align: right;\">\n",
       "      <th></th>\n",
       "      <th>business_id</th>\n",
       "      <th>variable</th>\n",
       "      <th>value</th>\n",
       "      <th>time</th>\n",
       "      <th>time_of_day</th>\n",
       "      <th>day_of_week</th>\n",
       "    </tr>\n",
       "  </thead>\n",
       "  <tbody>\n",
       "    <tr>\n",
       "      <th>0</th>\n",
       "      <td>SG_gEmEXL4ID6RAEinC5Bg</td>\n",
       "      <td>checkin_info.9-0</td>\n",
       "      <td>1.0</td>\n",
       "      <td>Sun_9</td>\n",
       "      <td>9</td>\n",
       "      <td>Sun</td>\n",
       "    </tr>\n",
       "    <tr>\n",
       "      <th>1</th>\n",
       "      <td>45puCRQ6Vh_IIAy7kkfFDQ</td>\n",
       "      <td>checkin_info.9-0</td>\n",
       "      <td>1.0</td>\n",
       "      <td>Sun_9</td>\n",
       "      <td>9</td>\n",
       "      <td>Sun</td>\n",
       "    </tr>\n",
       "    <tr>\n",
       "      <th>2</th>\n",
       "      <td>P7wKlbSRsoRrfH3DFOY08A</td>\n",
       "      <td>checkin_info.9-0</td>\n",
       "      <td>1.0</td>\n",
       "      <td>Sun_9</td>\n",
       "      <td>9</td>\n",
       "      <td>Sun</td>\n",
       "    </tr>\n",
       "    <tr>\n",
       "      <th>3</th>\n",
       "      <td>qsWxbgQwuomXvMseg23DGg</td>\n",
       "      <td>checkin_info.9-0</td>\n",
       "      <td>1.0</td>\n",
       "      <td>Sun_9</td>\n",
       "      <td>9</td>\n",
       "      <td>Sun</td>\n",
       "    </tr>\n",
       "    <tr>\n",
       "      <th>4</th>\n",
       "      <td>VCQ3VvnVRhibTT8J61xWkw</td>\n",
       "      <td>checkin_info.9-0</td>\n",
       "      <td>1.0</td>\n",
       "      <td>Sun_9</td>\n",
       "      <td>9</td>\n",
       "      <td>Sun</td>\n",
       "    </tr>\n",
       "  </tbody>\n",
       "</table>\n",
       "</div>"
      ],
      "text/plain": [
       "              business_id          variable  value   time time_of_day  \\\n",
       "0  SG_gEmEXL4ID6RAEinC5Bg  checkin_info.9-0    1.0  Sun_9           9   \n",
       "1  45puCRQ6Vh_IIAy7kkfFDQ  checkin_info.9-0    1.0  Sun_9           9   \n",
       "2  P7wKlbSRsoRrfH3DFOY08A  checkin_info.9-0    1.0  Sun_9           9   \n",
       "3  qsWxbgQwuomXvMseg23DGg  checkin_info.9-0    1.0  Sun_9           9   \n",
       "4  VCQ3VvnVRhibTT8J61xWkw  checkin_info.9-0    1.0  Sun_9           9   \n",
       "\n",
       "  day_of_week  \n",
       "0         Sun  \n",
       "1         Sun  \n",
       "2         Sun  \n",
       "3         Sun  \n",
       "4         Sun  "
      ]
     },
     "execution_count": 187,
     "metadata": {},
     "output_type": "execute_result"
    }
   ],
   "source": [
    "checkin.head()"
   ]
  },
  {
   "cell_type": "code",
   "execution_count": 188,
   "metadata": {
    "collapsed": false
   },
   "outputs": [],
   "source": [
    "checkin = pd.get_dummies(checkin, columns=['time'], prefix=None)"
   ]
  },
  {
   "cell_type": "code",
   "execution_count": 123,
   "metadata": {
    "collapsed": false
   },
   "outputs": [],
   "source": [
    "checkin_city = business[['business_id', 'city']]"
   ]
  },
  {
   "cell_type": "code",
   "execution_count": 138,
   "metadata": {
    "collapsed": false
   },
   "outputs": [
    {
     "name": "stdout",
     "output_type": "stream",
     "text": [
      "<class 'pandas.core.frame.DataFrame'>\n",
      "RangeIndex: 152832 entries, 0 to 152831\n",
      "Data columns (total 2 columns):\n",
      "business_id    152832 non-null object\n",
      "city           152832 non-null object\n",
      "dtypes: object(2)\n",
      "memory usage: 2.3+ MB\n"
     ]
    }
   ],
   "source": [
    "checkin_city.info()"
   ]
  },
  {
   "cell_type": "code",
   "execution_count": null,
   "metadata": {
    "collapsed": false
   },
   "outputs": [],
   "source": []
  },
  {
   "cell_type": "code",
   "execution_count": null,
   "metadata": {
    "collapsed": false
   },
   "outputs": [],
   "source": []
  },
  {
   "cell_type": "code",
   "execution_count": 117,
   "metadata": {
    "collapsed": false
   },
   "outputs": [],
   "source": [
    "checkin_predictor = checkin[['time', 'value']]"
   ]
  },
  {
   "cell_type": "code",
   "execution_count": 115,
   "metadata": {
    "collapsed": false
   },
   "outputs": [],
   "source": [
    "checkin_y = "
   ]
  },
  {
   "cell_type": "code",
   "execution_count": null,
   "metadata": {
    "collapsed": false
   },
   "outputs": [],
   "source": []
  },
  {
   "cell_type": "code",
   "execution_count": null,
   "metadata": {
    "collapsed": false
   },
   "outputs": [],
   "source": []
  },
  {
   "cell_type": "code",
   "execution_count": 48,
   "metadata": {
    "collapsed": false
   },
   "outputs": [],
   "source": [
    "#checkin_long['business_id']"
   ]
  },
  {
   "cell_type": "markdown",
   "metadata": {},
   "source": [
    "<img src=\"http://imgur.com/GCAf1UX.png\" style=\"float: left; margin: 25px 15px 0px 0px; height: 25px\">\n",
    "\n",
    "## 5. ROC and Precision-recall\n",
    "\n",
    "---\n",
    "\n",
    "Some categories have fewer overall businesses than others. Choose two categories of businesses to predict, one that makes your proportion of target classes as even as possible, and another that has very few businesses and thus makes the target varible imbalanced.\n",
    "\n",
    "1. Create two classification models predicting these categories. Optimize the models and choose variables as you see fit.\n",
    "- Make confusion matrices for your models. Describe the confusion matrices and explain what they tell you about your models' performance.\n",
    "- Make ROC curves for both models. What do the ROC curves describe and what do they tell you about your model?\n",
    "- Make Precision-Recall curves for the models. What do they describe? How do they compare to the ROC curves?\n",
    "- Explain when Precision-Recall may be preferable to ROC. Is that the case in either of your models?"
   ]
  },
  {
   "cell_type": "markdown",
   "metadata": {
    "collapsed": true
   },
   "source": [
    "## OOP, Stochastic Gradient Descent, and Linear Algebra\n",
    "\n",
    "---\n",
    "\n",
    "In this part of the project, you will implement machine learning algorithms we have covered in class from scratch. \n",
    "\n",
    "--- "
   ]
  },
  {
   "cell_type": "markdown",
   "metadata": {},
   "source": [
    "<img src=\"http://imgur.com/GCAf1UX.png\" style=\"float: left; margin: 25px 15px 0px 0px; height: 25px\">\n",
    "\n",
    "### 6. Extend the `LinearRegrssion` class to include the following: \n",
    "\n",
    "- Calculate confidence intervals at X% on the $\\beta$ coefficients and predicted y value when the model is not regularized. Here is a good overview of calculating confidence intervals: http://imgur.com/a/O1ZFk\n",
    "\n",
    "\n",
    "\n",
    "- An option to regularize the model with Ridge Regression. The method should automatically calculate the best `alpha` for the user. The closed form solution for Ridge Regression may be helpful [Hint: Think of the `n_alphas` parameter in sklearn]\n",
    "\n",
    "Protip: Compare if your implemenation works by applying it on the Diabetes Dataset and seeing it how it compares to opensource implemenations in `sklearn` and `statsmodels`. \n",
    "\n",
    "http://statsmodels.sourceforge.net/devel/examples/#regression\n",
    "\n",
    "http://scikit-learn.org/stable/auto_examples/linear_model/plot_ols.html"
   ]
  },
  {
   "cell_type": "markdown",
   "metadata": {},
   "source": [
    "<img src=\"http://imgur.com/GCAf1UX.png\" style=\"float: left; margin: 25px 15px 0px 0px; height: 25px\">\n",
    "\n",
    "### 7. Extend the `NearestNeighbor` class such that the fit method doesn't use a `for loop`\n"
   ]
  },
  {
   "cell_type": "markdown",
   "metadata": {},
   "source": [
    "<img src=\"http://imgur.com/GCAf1UX.png\" style=\"float: left; margin: 25px 15px 0px 0px; height: 25px\">\n",
    "\n",
    "### 8. Implement `LogisticRegression` that fits the model using Stochastic Gradient Descent. \n",
    "\n",
    "Check if the results of your `LogisticRegression` implementation matches with the Sklearn implementation: http://scikit-learn.org/stable/modules/generated/sklearn.linear_model.LogisticRegression.html"
   ]
  },
  {
   "cell_type": "markdown",
   "metadata": {},
   "source": [
    "<img src=\"http://imgur.com/GCAf1UX.png\" style=\"float: left; margin: 25px 15px 0px 0px; height: 25px\">\n",
    "### 9. Singular Value Decomposition \n",
    "\n",
    "- Read articles on image compression with SVD and use `numpy` apply it to images from the MNIST Datasets. To get the MNIST Datset, use the following comands. Note that the `mnist` data has shape `(70000, 784)`. You will need to convert it to 28x28 images [Hint: `np.reshape`]. \n",
    "       \n",
    "       from sklearn.datasets import fetch_mldata\n",
    "       mnist = fetch_mldata('MNIST original', data_home=custom_data_home)\n",
    "\n",
    "    https://inst.eecs.berkeley.edu/~ee127a/book/login/l_svd_apps_image.html\n",
    "\n",
    "    http://www.frankcleary.com/svdimage/\n",
    "    \n",
    "    \n",
    "- Apply Logistic Regression to classify MNIST Images. This may require having the images be `784` dimensions rather than `28x28`. Compare results of the classifier on a test set when you apply it on the raw dataset vs. the compressed version of dataset from SVD. "
   ]
  },
  {
   "cell_type": "markdown",
   "metadata": {},
   "source": [
    "## Optional: Interview Practice"
   ]
  },
  {
   "cell_type": "markdown",
   "metadata": {},
   "source": [
    "## Coding Questions \n",
    "- Implement Binary Search in Python and write down the algorithmic complexity of the Binary Search Algorithm.\n",
    "\n",
    "\n",
    "- Implement Merge Sort in Python [Hint: First implement the `merge` function that combines two sorted arrays into one sorted array linear time]. What is the time complexity of `mergesort` ?\n",
    "\n",
    "\n",
    "- Find the closest pair from two sorted arrays. Given two sorted arrays and a number x, find the pair whose sum is closest to x and the pair has an element from each array. We are given two arrays ar1[0…m-1] and ar2[0..n-1] and a number x, we need to find the pair ar1[i] + ar2[j] such that absolute value of (ar1[i] + ar2[j] – x) is minimum. What is the time complexity of this algorithm?"
   ]
  },
  {
   "cell_type": "raw",
   "metadata": {},
   "source": [
    "algorithmic complexity\n",
    "time complexity: how much time it takes to excute the instructions\n",
    "space complexity: how much memory space it takes to run the instructions"
   ]
  },
  {
   "cell_type": "code",
   "execution_count": null,
   "metadata": {
    "collapsed": true
   },
   "outputs": [],
   "source": [
    "def binary_search(val, lst):\n",
    "    "
   ]
  },
  {
   "cell_type": "raw",
   "metadata": {
    "collapsed": false
   },
   "source": [
    "def merge(lst_1, lst_2):\n",
    "    if len(lst_1) > len(lst_2):\n",
    "        lst_1.append(i for i in lst_2)\n",
    "        return lst_1\n",
    "    elif len(lst_1) < len(lst_2):\n",
    "        lst_2.append(i for i in lst_1)\n",
    "        return lst_2\n",
    "    else:\n",
    "        return 'empty list'"
   ]
  },
  {
   "cell_type": "code",
   "execution_count": 113,
   "metadata": {
    "collapsed": true
   },
   "outputs": [],
   "source": [
    "arr1 = [1, 3, 6, 10]\n",
    "arr2 = [2, 5, 9, 11]\n",
    "x = 18\n",
    "dis = (arr1[0], arr2[0], abs(arr1[0]+arr2[0] - x))"
   ]
  },
  {
   "cell_type": "code",
   "execution_count": 114,
   "metadata": {
    "collapsed": false
   },
   "outputs": [
    {
     "data": {
      "text/plain": [
       "(1, 2, 15)"
      ]
     },
     "execution_count": 114,
     "metadata": {},
     "output_type": "execute_result"
    }
   ],
   "source": [
    "dis"
   ]
  },
  {
   "cell_type": "markdown",
   "metadata": {},
   "source": [
    "## Probability  and Statistics Questions \n",
    "\n",
    "- In any 15-minute interval, there is a 20% probability that you will see at least one shooting star. What is the probability that you see at least one shooting star in the period of an hour?\n",
    "\n",
    "\n",
    "- A certain couple tells you that they have two children, at least one of which is a girl. What is the probability that they have two girls?\n"
   ]
  },
  {
   "cell_type": "markdown",
   "metadata": {},
   "source": [
    "## Interview Questions Related to Material\n",
    "\n",
    "- Explain what is bias-variance tradeoff to a non-technical person. Why is it a useful framework? How do you detect bias in your models? How about you variance? \n",
    "http://scott.fortmann-roe.com/docs/BiasVariance.html\n",
    "\n",
    "\n",
    "- Explain why cross-validation is important. \n",
    "\n",
    "\n",
    "- What is regularization? What are the advantages/disadvantages of different types of regularization schemes? \n",
    "\n",
    "\n",
    "- What are the loss functions associated with linear regression, logistic regression, and KNN? \n",
    "\n",
    "\n",
    "- Can you give examples of feature engineering on datasets you have worked with? "
   ]
  },
  {
   "cell_type": "code",
   "execution_count": null,
   "metadata": {
    "collapsed": true
   },
   "outputs": [],
   "source": []
  }
 ],
 "metadata": {
  "anaconda-cloud": {},
  "kernelspec": {
   "display_name": "Python [dsi]",
   "language": "python",
   "name": "Python [dsi]"
  },
  "language_info": {
   "codemirror_mode": {
    "name": "ipython",
    "version": 2
   },
   "file_extension": ".py",
   "mimetype": "text/x-python",
   "name": "python",
   "nbconvert_exporter": "python",
   "pygments_lexer": "ipython2",
   "version": "2.7.12"
  }
 },
 "nbformat": 4,
 "nbformat_minor": 0
}
