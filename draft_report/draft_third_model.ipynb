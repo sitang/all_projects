{
 "cells": [
  {
   "cell_type": "code",
   "execution_count": 2,
   "metadata": {
    "collapsed": true
   },
   "outputs": [],
   "source": [
    "import pandas as pd\n",
    "import seaborn as sns\n",
    "import numpy as np\n",
    "from geopy.geocoders import Nominatim\n",
    "from geopy.distance import vincenty\n",
    "import googlemaps\n",
    "import pandas as pd\n",
    "import json\n",
    "import matplotlib.pyplot as plt\n",
    "%matplotlib inline\n",
    "\n",
    "from sklearn.preprocessing import LabelEncoder\n",
    "from sklearn.utils import shuffle\n",
    "from sklearn.linear_model import LogisticRegression\n",
    "from sklearn.cross_validation import train_test_split\n",
    "from sklearn.metrics import accuracy_score, classification_report, confusion_matrix, log_loss\n",
    "\n",
    "import cPickle as pickle\n",
    "\n",
    "import re"
   ]
  },
  {
   "cell_type": "code",
   "execution_count": 4,
   "metadata": {
    "collapsed": false
   },
   "outputs": [],
   "source": [
    "crime2016 = pd.read_pickle('../final_dataset/crime2016_complete.pkl')"
   ]
  },
  {
   "cell_type": "code",
   "execution_count": 32,
   "metadata": {
    "collapsed": false
   },
   "outputs": [],
   "source": [
    "crime2016.dropna(inplace=True)"
   ]
  },
  {
   "cell_type": "code",
   "execution_count": 33,
   "metadata": {
    "collapsed": false
   },
   "outputs": [
    {
     "name": "stdout",
     "output_type": "stream",
     "text": [
      "<class 'pandas.core.frame.DataFrame'>\n",
      "Int64Index: 115622 entries, 0 to 117200\n",
      "Data columns (total 70 columns):\n",
      "incidntnum                                                                                                                          115622 non-null int64\n",
      "category                                                                                                                            115622 non-null object\n",
      "descript                                                                                                                            115622 non-null object\n",
      "dayofweek                                                                                                                           115622 non-null object\n",
      "date                                                                                                                                115622 non-null object\n",
      "time                                                                                                                                115622 non-null object\n",
      "pddistrict                                                                                                                          115622 non-null object\n",
      "resolution                                                                                                                          115622 non-null object\n",
      "address_x                                                                                                                           115622 non-null object\n",
      "x                                                                                                                                   115622 non-null float64\n",
      "y                                                                                                                                   115622 non-null float64\n",
      "location                                                                                                                            115622 non-null object\n",
      "pdid                                                                                                                                115622 non-null int64\n",
      "address_y                                                                                                                           115622 non-null object\n",
      "neighborhood                                                                                                                        115622 non-null object\n",
      "new_time                                                                                                                            115622 non-null datetime64[ns]\n",
      "hour                                                                                                                                115622 non-null int64\n",
      "day                                                                                                                                 115622 non-null int64\n",
      "month                                                                                                                               115622 non-null int64\n",
      "year                                                                                                                                115622 non-null int64\n",
      "morning                                                                                                                             115622 non-null int64\n",
      "afternoon                                                                                                                           115622 non-null int64\n",
      "night                                                                                                                               115622 non-null int64\n",
      "new_resolution                                                                                                                      115622 non-null int64\n",
      "zipcode                                                                                                                             115622 non-null object\n",
      "sex and age - total population                                                                                                      115622 non-null float64\n",
      "sex and age - total population - male                                                                                               115622 non-null float64\n",
      "sex and age - total population - female                                                                                             115622 non-null float64\n",
      "sex and age - under 5 years                                                                                                         115622 non-null float64\n",
      "sex and age - 5 to 9 years                                                                                                          115622 non-null float64\n",
      "sex and age - 10 to 14 years                                                                                                        115622 non-null float64\n",
      "sex and age - 15 to 19 years                                                                                                        115622 non-null float64\n",
      "sex and age - 20 to 24 years                                                                                                        115622 non-null float64\n",
      "sex and age - 25 to 34 years                                                                                                        115622 non-null float64\n",
      "sex and age - 35 to 44 years                                                                                                        115622 non-null float64\n",
      "sex and age - 45 to 54 years                                                                                                        115622 non-null float64\n",
      "sex and age - 55 to 59 years                                                                                                        115622 non-null float64\n",
      "sex and age - 60 to 64 years                                                                                                        115622 non-null float64\n",
      "sex and age - 65 to 74 years                                                                                                        115622 non-null float64\n",
      "sex and age - 75 to 84 years                                                                                                        115622 non-null float64\n",
      "sex and age - 85 years and over                                                                                                     115622 non-null float64\n",
      "sex and age - median age (years)                                                                                                    115622 non-null float64\n",
      "sex and age - 18 years and over                                                                                                     115622 non-null float64\n",
      "sex and age - 21 years and over                                                                                                     115622 non-null float64\n",
      "sex and age - 62 years and over                                                                                                     115622 non-null float64\n",
      "sex and age - 65 years and over                                                                                                     115622 non-null float64\n",
      "sex and age - 18 years and over.1                                                                                                   115622 non-null float64\n",
      "sex and age - 18 years and over - male                                                                                              115622 non-null float64\n",
      "sex and age - 18 years and over - female                                                                                            115622 non-null float64\n",
      "sex and age - 65 years and over.1                                                                                                   115622 non-null float64\n",
      "sex and age - 65 years and over - male                                                                                              115622 non-null float64\n",
      "sex and age - 65 years and over - female                                                                                            115622 non-null float64\n",
      "race - one race                                                                                                                     115622 non-null float64\n",
      "race - one race - white                                                                                                             115622 non-null float64\n",
      "race - one race - black or african american                                                                                         115622 non-null float64\n",
      "race - one race - american indian and alaska native                                                                                 115622 non-null float64\n",
      "race - one race - asian                                                                                                             115622 non-null float64\n",
      "race - one race - native hawaiian and other pacific islander                                                                        115622 non-null float64\n",
      "race - one race - some other race                                                                                                   115622 non-null float64\n",
      "race - two or more races                                                                                                            115622 non-null float64\n",
      "race - race alone or in combination with one or more other races - total population - white                                         115622 non-null float64\n",
      "race - race alone or in combination with one or more other races - total population - black or african american                     115622 non-null float64\n",
      "race - race alone or in combination with one or more other races - total population - american indian and alaska native             115622 non-null float64\n",
      "race - race alone or in combination with one or more other races - total population - asian                                         115622 non-null float64\n",
      "race - race alone or in combination with one or more other races - total population - native hawaiian and other pacific islander    115622 non-null float64\n",
      "race - race alone or in combination with one or more other races - total population - some other race                               115622 non-null float64\n",
      "hispanic or latino and race - total population - hispanic or latino (of any race)                                                   115622 non-null float64\n",
      "median_income                                                                                                                       115622 non-null float64\n",
      "median_home_value                                                                                                                   115622 non-null float64\n",
      "median_rent                                                                                                                         115622 non-null float64\n",
      "dtypes: datetime64[ns](1), float64(47), int64(10), object(12)\n",
      "memory usage: 62.6+ MB\n"
     ]
    }
   ],
   "source": [
    "crime2016.info()"
   ]
  },
  {
   "cell_type": "markdown",
   "metadata": {},
   "source": [
    "## only look at crimes (drop non-criminal)"
   ]
  },
  {
   "cell_type": "code",
   "execution_count": 43,
   "metadata": {
    "collapsed": true
   },
   "outputs": [],
   "source": [
    "crime_only = crime2016[crime2016['category'] != 'non-criminal']"
   ]
  },
  {
   "cell_type": "code",
   "execution_count": 44,
   "metadata": {
    "collapsed": false
   },
   "outputs": [
    {
     "data": {
      "text/plain": [
       "0    69598\n",
       "1    32017\n",
       "Name: new_resolution, dtype: int64"
      ]
     },
     "execution_count": 44,
     "metadata": {},
     "output_type": "execute_result"
    }
   ],
   "source": [
    "crime_only['new_resolution'].value_counts()"
   ]
  },
  {
   "cell_type": "markdown",
   "metadata": {},
   "source": [
    "## features X and target variable y"
   ]
  },
  {
   "cell_type": "code",
   "execution_count": 45,
   "metadata": {
    "collapsed": false
   },
   "outputs": [
    {
     "name": "stderr",
     "output_type": "stream",
     "text": [
      "/Users/Sitang/anaconda/envs/dsi/lib/python2.7/site-packages/ipykernel/__main__.py:1: SettingWithCopyWarning: \n",
      "A value is trying to be set on a copy of a slice from a DataFrame\n",
      "\n",
      "See the caveats in the documentation: http://pandas.pydata.org/pandas-docs/stable/indexing.html#indexing-view-versus-copy\n",
      "  if __name__ == '__main__':\n"
     ]
    }
   ],
   "source": [
    "crime_only.drop(['incidntnum', 'date', 'time', 'address_x', 'x', 'y', 'location',\\\n",
    "                 'address_y', 'new_time', 'year', 'resolution', 'pdid'], axis=1, inplace=True)"
   ]
  },
  {
   "cell_type": "code",
   "execution_count": 46,
   "metadata": {
    "collapsed": false
   },
   "outputs": [],
   "source": [
    "features = [i for i in crime_only.columns if i != 'new_resolution']"
   ]
  },
  {
   "cell_type": "code",
   "execution_count": 47,
   "metadata": {
    "collapsed": false
   },
   "outputs": [
    {
     "data": {
      "text/plain": [
       "['category',\n",
       " 'descript',\n",
       " 'dayofweek',\n",
       " 'pddistrict',\n",
       " 'neighborhood',\n",
       " 'hour',\n",
       " 'day',\n",
       " 'month',\n",
       " 'morning',\n",
       " 'afternoon',\n",
       " 'night',\n",
       " 'zipcode',\n",
       " 'sex and age - total population',\n",
       " 'sex and age - total population - male',\n",
       " 'sex and age - total population - female',\n",
       " 'sex and age - under 5 years',\n",
       " 'sex and age - 5 to 9 years',\n",
       " 'sex and age - 10 to 14 years',\n",
       " 'sex and age - 15 to 19 years',\n",
       " 'sex and age - 20 to 24 years',\n",
       " 'sex and age - 25 to 34 years',\n",
       " 'sex and age - 35 to 44 years',\n",
       " 'sex and age - 45 to 54 years',\n",
       " 'sex and age - 55 to 59 years',\n",
       " 'sex and age - 60 to 64 years',\n",
       " 'sex and age - 65 to 74 years',\n",
       " 'sex and age - 75 to 84 years',\n",
       " 'sex and age - 85 years and over',\n",
       " 'sex and age - median age (years)',\n",
       " 'sex and age - 18 years and over',\n",
       " 'sex and age - 21 years and over',\n",
       " 'sex and age - 62 years and over',\n",
       " 'sex and age - 65 years and over',\n",
       " 'sex and age - 18 years and over.1',\n",
       " 'sex and age - 18 years and over - male',\n",
       " 'sex and age - 18 years and over - female',\n",
       " 'sex and age - 65 years and over.1',\n",
       " 'sex and age - 65 years and over - male',\n",
       " 'sex and age - 65 years and over - female',\n",
       " 'race - one race',\n",
       " 'race - one race - white',\n",
       " 'race - one race - black or african american',\n",
       " 'race - one race - american indian and alaska native',\n",
       " 'race - one race - asian',\n",
       " 'race - one race - native hawaiian and other pacific islander',\n",
       " 'race - one race - some other race',\n",
       " 'race - two or more races',\n",
       " 'race - race alone or in combination with one or more other races - total population - white',\n",
       " 'race - race alone or in combination with one or more other races - total population - black or african american',\n",
       " 'race - race alone or in combination with one or more other races - total population - american indian and alaska native',\n",
       " 'race - race alone or in combination with one or more other races - total population - asian',\n",
       " 'race - race alone or in combination with one or more other races - total population - native hawaiian and other pacific islander',\n",
       " 'race - race alone or in combination with one or more other races - total population - some other race',\n",
       " 'hispanic or latino and race - total population - hispanic or latino (of any race)',\n",
       " 'median_income',\n",
       " 'median_home_value',\n",
       " 'median_rent']"
      ]
     },
     "execution_count": 47,
     "metadata": {},
     "output_type": "execute_result"
    }
   ],
   "source": [
    "features"
   ]
  },
  {
   "cell_type": "code",
   "execution_count": 48,
   "metadata": {
    "collapsed": true
   },
   "outputs": [],
   "source": [
    "y = crime_only['new_resolution']"
   ]
  },
  {
   "cell_type": "code",
   "execution_count": 49,
   "metadata": {
    "collapsed": false
   },
   "outputs": [
    {
     "data": {
      "text/plain": [
       "0    69598\n",
       "1    32017\n",
       "Name: new_resolution, dtype: int64"
      ]
     },
     "execution_count": 49,
     "metadata": {},
     "output_type": "execute_result"
    }
   ],
   "source": [
    "y.value_counts()"
   ]
  },
  {
   "cell_type": "markdown",
   "metadata": {},
   "source": [
    "### standardize demographic columns"
   ]
  },
  {
   "cell_type": "code",
   "execution_count": 58,
   "metadata": {
    "collapsed": false
   },
   "outputs": [
    {
     "name": "stderr",
     "output_type": "stream",
     "text": [
      "/Users/Sitang/anaconda/envs/dsi/lib/python2.7/site-packages/pandas/core/frame.py:2378: SettingWithCopyWarning: \n",
      "A value is trying to be set on a copy of a slice from a DataFrame.\n",
      "Try using .loc[row_indexer,col_indexer] = value instead\n",
      "\n",
      "See the caveats in the documentation: http://pandas.pydata.org/pandas-docs/stable/indexing.html#indexing-view-versus-copy\n",
      "  self[k1] = value[k2]\n"
     ]
    }
   ],
   "source": [
    "crime_only[features[12:]] = (crime_only[features[12:]] - crime_only[features[12:]].mean())\\\n",
    "                            / (crime_only[features[12:]].max() - crime_only[features[12:]].min())"
   ]
  },
  {
   "cell_type": "code",
   "execution_count": 60,
   "metadata": {
    "collapsed": false
   },
   "outputs": [
    {
     "data": {
      "text/html": [
       "<div>\n",
       "<table border=\"1\" class=\"dataframe\">\n",
       "  <thead>\n",
       "    <tr style=\"text-align: right;\">\n",
       "      <th></th>\n",
       "      <th>category</th>\n",
       "      <th>descript</th>\n",
       "      <th>dayofweek</th>\n",
       "      <th>pddistrict</th>\n",
       "      <th>neighborhood</th>\n",
       "      <th>hour</th>\n",
       "      <th>day</th>\n",
       "      <th>month</th>\n",
       "      <th>morning</th>\n",
       "      <th>afternoon</th>\n",
       "      <th>...</th>\n",
       "      <th>race - race alone or in combination with one or more other races - total population - white</th>\n",
       "      <th>race - race alone or in combination with one or more other races - total population - black or african american</th>\n",
       "      <th>race - race alone or in combination with one or more other races - total population - american indian and alaska native</th>\n",
       "      <th>race - race alone or in combination with one or more other races - total population - asian</th>\n",
       "      <th>race - race alone or in combination with one or more other races - total population - native hawaiian and other pacific islander</th>\n",
       "      <th>race - race alone or in combination with one or more other races - total population - some other race</th>\n",
       "      <th>hispanic or latino and race - total population - hispanic or latino (of any race)</th>\n",
       "      <th>median_income</th>\n",
       "      <th>median_home_value</th>\n",
       "      <th>median_rent</th>\n",
       "    </tr>\n",
       "  </thead>\n",
       "  <tbody>\n",
       "    <tr>\n",
       "      <th>0</th>\n",
       "      <td>assault</td>\n",
       "      <td>battery</td>\n",
       "      <td>friday</td>\n",
       "      <td>northern</td>\n",
       "      <td>pacific heights</td>\n",
       "      <td>8</td>\n",
       "      <td>26</td>\n",
       "      <td>8</td>\n",
       "      <td>1</td>\n",
       "      <td>0</td>\n",
       "      <td>...</td>\n",
       "      <td>0.044363</td>\n",
       "      <td>-0.211685</td>\n",
       "      <td>-0.430032</td>\n",
       "      <td>-0.212324</td>\n",
       "      <td>-0.207004</td>\n",
       "      <td>-0.240539</td>\n",
       "      <td>-0.203746</td>\n",
       "      <td>0.314049</td>\n",
       "      <td>0.493659</td>\n",
       "      <td>0.367514</td>\n",
       "    </tr>\n",
       "    <tr>\n",
       "      <th>1</th>\n",
       "      <td>warrants</td>\n",
       "      <td>warrant arrest</td>\n",
       "      <td>friday</td>\n",
       "      <td>northern</td>\n",
       "      <td>pacific heights</td>\n",
       "      <td>8</td>\n",
       "      <td>26</td>\n",
       "      <td>8</td>\n",
       "      <td>1</td>\n",
       "      <td>0</td>\n",
       "      <td>...</td>\n",
       "      <td>0.044363</td>\n",
       "      <td>-0.211685</td>\n",
       "      <td>-0.430032</td>\n",
       "      <td>-0.212324</td>\n",
       "      <td>-0.207004</td>\n",
       "      <td>-0.240539</td>\n",
       "      <td>-0.203746</td>\n",
       "      <td>0.314049</td>\n",
       "      <td>0.493659</td>\n",
       "      <td>0.367514</td>\n",
       "    </tr>\n",
       "    <tr>\n",
       "      <th>3</th>\n",
       "      <td>other offenses</td>\n",
       "      <td>drivers license, suspended or revoked</td>\n",
       "      <td>saturday</td>\n",
       "      <td>northern</td>\n",
       "      <td>pacific heights</td>\n",
       "      <td>2</td>\n",
       "      <td>23</td>\n",
       "      <td>7</td>\n",
       "      <td>0</td>\n",
       "      <td>0</td>\n",
       "      <td>...</td>\n",
       "      <td>0.044363</td>\n",
       "      <td>-0.211685</td>\n",
       "      <td>-0.430032</td>\n",
       "      <td>-0.212324</td>\n",
       "      <td>-0.207004</td>\n",
       "      <td>-0.240539</td>\n",
       "      <td>-0.203746</td>\n",
       "      <td>0.314049</td>\n",
       "      <td>0.493659</td>\n",
       "      <td>0.367514</td>\n",
       "    </tr>\n",
       "    <tr>\n",
       "      <th>4</th>\n",
       "      <td>larceny/theft</td>\n",
       "      <td>grand theft from locked auto</td>\n",
       "      <td>thursday</td>\n",
       "      <td>northern</td>\n",
       "      <td>pacific heights</td>\n",
       "      <td>12</td>\n",
       "      <td>5</td>\n",
       "      <td>5</td>\n",
       "      <td>0</td>\n",
       "      <td>1</td>\n",
       "      <td>...</td>\n",
       "      <td>0.044363</td>\n",
       "      <td>-0.211685</td>\n",
       "      <td>-0.430032</td>\n",
       "      <td>-0.212324</td>\n",
       "      <td>-0.207004</td>\n",
       "      <td>-0.240539</td>\n",
       "      <td>-0.203746</td>\n",
       "      <td>0.314049</td>\n",
       "      <td>0.493659</td>\n",
       "      <td>0.367514</td>\n",
       "    </tr>\n",
       "    <tr>\n",
       "      <th>5</th>\n",
       "      <td>larceny/theft</td>\n",
       "      <td>grand theft from locked auto</td>\n",
       "      <td>thursday</td>\n",
       "      <td>northern</td>\n",
       "      <td>pacific heights</td>\n",
       "      <td>1</td>\n",
       "      <td>15</td>\n",
       "      <td>9</td>\n",
       "      <td>0</td>\n",
       "      <td>0</td>\n",
       "      <td>...</td>\n",
       "      <td>0.044363</td>\n",
       "      <td>-0.211685</td>\n",
       "      <td>-0.430032</td>\n",
       "      <td>-0.212324</td>\n",
       "      <td>-0.207004</td>\n",
       "      <td>-0.240539</td>\n",
       "      <td>-0.203746</td>\n",
       "      <td>0.314049</td>\n",
       "      <td>0.493659</td>\n",
       "      <td>0.367514</td>\n",
       "    </tr>\n",
       "  </tbody>\n",
       "</table>\n",
       "<p>5 rows × 58 columns</p>\n",
       "</div>"
      ],
      "text/plain": [
       "         category                               descript dayofweek pddistrict  \\\n",
       "0         assault                                battery    friday   northern   \n",
       "1        warrants                         warrant arrest    friday   northern   \n",
       "3  other offenses  drivers license, suspended or revoked  saturday   northern   \n",
       "4   larceny/theft           grand theft from locked auto  thursday   northern   \n",
       "5   larceny/theft           grand theft from locked auto  thursday   northern   \n",
       "\n",
       "      neighborhood  hour  day  month  morning  afternoon     ...       \\\n",
       "0  pacific heights     8   26      8        1          0     ...        \n",
       "1  pacific heights     8   26      8        1          0     ...        \n",
       "3  pacific heights     2   23      7        0          0     ...        \n",
       "4  pacific heights    12    5      5        0          1     ...        \n",
       "5  pacific heights     1   15      9        0          0     ...        \n",
       "\n",
       "   race - race alone or in combination with one or more other races - total population - white  \\\n",
       "0                                           0.044363                                             \n",
       "1                                           0.044363                                             \n",
       "3                                           0.044363                                             \n",
       "4                                           0.044363                                             \n",
       "5                                           0.044363                                             \n",
       "\n",
       "   race - race alone or in combination with one or more other races - total population - black or african american  \\\n",
       "0                                          -0.211685                                                                 \n",
       "1                                          -0.211685                                                                 \n",
       "3                                          -0.211685                                                                 \n",
       "4                                          -0.211685                                                                 \n",
       "5                                          -0.211685                                                                 \n",
       "\n",
       "  race - race alone or in combination with one or more other races - total population - american indian and alaska native  \\\n",
       "0                                          -0.430032                                                                        \n",
       "1                                          -0.430032                                                                        \n",
       "3                                          -0.430032                                                                        \n",
       "4                                          -0.430032                                                                        \n",
       "5                                          -0.430032                                                                        \n",
       "\n",
       "   race - race alone or in combination with one or more other races - total population - asian  \\\n",
       "0                                          -0.212324                                             \n",
       "1                                          -0.212324                                             \n",
       "3                                          -0.212324                                             \n",
       "4                                          -0.212324                                             \n",
       "5                                          -0.212324                                             \n",
       "\n",
       "   race - race alone or in combination with one or more other races - total population - native hawaiian and other pacific islander  \\\n",
       "0                                          -0.207004                                                                                  \n",
       "1                                          -0.207004                                                                                  \n",
       "3                                          -0.207004                                                                                  \n",
       "4                                          -0.207004                                                                                  \n",
       "5                                          -0.207004                                                                                  \n",
       "\n",
       "   race - race alone or in combination with one or more other races - total population - some other race  \\\n",
       "0                                          -0.240539                                                       \n",
       "1                                          -0.240539                                                       \n",
       "3                                          -0.240539                                                       \n",
       "4                                          -0.240539                                                       \n",
       "5                                          -0.240539                                                       \n",
       "\n",
       "   hispanic or latino and race - total population - hispanic or latino (of any race)  \\\n",
       "0                                          -0.203746                                   \n",
       "1                                          -0.203746                                   \n",
       "3                                          -0.203746                                   \n",
       "4                                          -0.203746                                   \n",
       "5                                          -0.203746                                   \n",
       "\n",
       "   median_income  median_home_value  median_rent  \n",
       "0       0.314049           0.493659     0.367514  \n",
       "1       0.314049           0.493659     0.367514  \n",
       "3       0.314049           0.493659     0.367514  \n",
       "4       0.314049           0.493659     0.367514  \n",
       "5       0.314049           0.493659     0.367514  \n",
       "\n",
       "[5 rows x 58 columns]"
      ]
     },
     "execution_count": 60,
     "metadata": {},
     "output_type": "execute_result"
    }
   ],
   "source": [
    "crime_only.head()"
   ]
  },
  {
   "cell_type": "markdown",
   "metadata": {},
   "source": [
    "## make dummy variables for the categorical columns"
   ]
  },
  {
   "cell_type": "code",
   "execution_count": 71,
   "metadata": {
    "collapsed": false
   },
   "outputs": [
    {
     "name": "stdout",
     "output_type": "stream",
     "text": [
      "<class 'pandas.core.frame.DataFrame'>\n",
      "Int64Index: 101615 entries, 0 to 117200\n",
      "Data columns (total 12 columns):\n",
      "category        101615 non-null object\n",
      "descript        101615 non-null object\n",
      "dayofweek       101615 non-null object\n",
      "pddistrict      101615 non-null object\n",
      "neighborhood    101615 non-null object\n",
      "hour            101615 non-null int64\n",
      "day             101615 non-null int64\n",
      "month           101615 non-null int64\n",
      "morning         101615 non-null int64\n",
      "afternoon       101615 non-null int64\n",
      "night           101615 non-null int64\n",
      "zipcode         101615 non-null object\n",
      "dtypes: int64(6), object(6)\n",
      "memory usage: 10.1+ MB\n"
     ]
    }
   ],
   "source": [
    "crime_only[features[:12]].info()"
   ]
  },
  {
   "cell_type": "code",
   "execution_count": null,
   "metadata": {
    "collapsed": false
   },
   "outputs": [],
   "source": []
  },
  {
   "cell_type": "code",
   "execution_count": null,
   "metadata": {
    "collapsed": true
   },
   "outputs": [],
   "source": []
  },
  {
   "cell_type": "markdown",
   "metadata": {},
   "source": [
    "## Decision Tree Classifier"
   ]
  },
  {
   "cell_type": "code",
   "execution_count": 50,
   "metadata": {
    "collapsed": true
   },
   "outputs": [],
   "source": [
    "from sklearn.tree import DecisionTreeClassifier"
   ]
  },
  {
   "cell_type": "code",
   "execution_count": 64,
   "metadata": {
    "collapsed": true
   },
   "outputs": [],
   "source": [
    "dtc = DecisionTreeClassifier()"
   ]
  },
  {
   "cell_type": "code",
   "execution_count": null,
   "metadata": {
    "collapsed": true
   },
   "outputs": [],
   "source": []
  },
  {
   "cell_type": "code",
   "execution_count": null,
   "metadata": {
    "collapsed": true
   },
   "outputs": [],
   "source": []
  },
  {
   "cell_type": "code",
   "execution_count": null,
   "metadata": {
    "collapsed": true
   },
   "outputs": [],
   "source": []
  },
  {
   "cell_type": "code",
   "execution_count": null,
   "metadata": {
    "collapsed": true
   },
   "outputs": [],
   "source": []
  },
  {
   "cell_type": "code",
   "execution_count": null,
   "metadata": {
    "collapsed": true
   },
   "outputs": [],
   "source": []
  }
 ],
 "metadata": {
  "kernelspec": {
   "display_name": "Python [dsi]",
   "language": "python",
   "name": "Python [dsi]"
  },
  "language_info": {
   "codemirror_mode": {
    "name": "ipython",
    "version": 2
   },
   "file_extension": ".py",
   "mimetype": "text/x-python",
   "name": "python",
   "nbconvert_exporter": "python",
   "pygments_lexer": "ipython2",
   "version": "2.7.12"
  }
 },
 "nbformat": 4,
 "nbformat_minor": 0
}
